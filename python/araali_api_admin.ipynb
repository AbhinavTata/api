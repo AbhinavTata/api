{
 "cells": [
  {
   "cell_type": "markdown",
   "id": "341991a5",
   "metadata": {},
   "source": [
    "<h1 id=\"tocheading\">Table of Contents</h1>\n",
    "<div id=\"toc\"></div>"
   ]
  },
  {
   "cell_type": "code",
   "execution_count": null,
   "id": "957e01b7",
   "metadata": {},
   "outputs": [],
   "source": [
    "%%javascript\n",
    "$.getScript('https://kmahelona.github.io/ipython_notebook_goodies/ipython_notebook_toc.js')"
   ]
  },
  {
   "cell_type": "code",
   "execution_count": null,
   "id": "551ad5fd",
   "metadata": {},
   "outputs": [],
   "source": [
    "import api\n",
    "import araalictl\n",
    "import datetime\n",
    "import imp"
   ]
  },
  {
   "cell_type": "code",
   "execution_count": null,
   "id": "a51bfe12",
   "metadata": {},
   "outputs": [],
   "source": [
    "# if you are a api dev and make changes\n",
    "imp.reload(araalictl)\n",
    "imp.reload(api)"
   ]
  },
  {
   "cell_type": "markdown",
   "id": "1f01813d",
   "metadata": {},
   "source": [
    "# RBAC"
   ]
  },
  {
   "cell_type": "code",
   "execution_count": null,
   "id": "043642a3",
   "metadata": {},
   "outputs": [],
   "source": [
    "api.Table(api.RBAC.show_roles())"
   ]
  },
  {
   "cell_type": "code",
   "execution_count": null,
   "id": "058d04d0",
   "metadata": {},
   "outputs": [],
   "source": [
    "api.Table(api.RBAC.show_users())"
   ]
  },
  {
   "cell_type": "code",
   "execution_count": null,
   "id": "0a7f8a40",
   "metadata": {},
   "outputs": [],
   "source": [
    "api.Table(api.RBAC.assign_roles(\"<email-here>\", [\"Site-Admin\"]))"
   ]
  },
  {
   "cell_type": "markdown",
   "id": "f146bcd8",
   "metadata": {},
   "source": [
    "# Mapping k8s tags to mean apps"
   ]
  },
  {
   "cell_type": "code",
   "execution_count": null,
   "id": "bf86177d",
   "metadata": {},
   "outputs": [],
   "source": [
    "api.Table(api.Mapping.get())"
   ]
  },
  {
   "cell_type": "code",
   "execution_count": null,
   "id": "48b9cb09",
   "metadata": {},
   "outputs": [],
   "source": [
    "api.Mapping.add(\"<your-zone>\", \"<your namespace>\", \"<name of label to use for app>\")"
   ]
  },
  {
   "cell_type": "markdown",
   "id": "6fd5e8c7",
   "metadata": {},
   "source": [
    "# Monitor Perimeter"
   ]
  },
  {
   "cell_type": "code",
   "execution_count": null,
   "id": "ed827b76",
   "metadata": {},
   "outputs": [],
   "source": [
    "api.Lens.monitor_world(\"<email>\")"
   ]
  },
  {
   "cell_type": "code",
   "execution_count": null,
   "id": "dd85ac40",
   "metadata": {},
   "outputs": [],
   "source": [
    "api.Lens.unmonitor_world(\"<email>\")"
   ]
  },
  {
   "cell_type": "code",
   "execution_count": null,
   "id": "2e32eb7a",
   "metadata": {},
   "outputs": [],
   "source": []
  }
 ],
 "metadata": {
  "kernelspec": {
   "display_name": "Python 3 (ipykernel)",
   "language": "python",
   "name": "python3"
  },
  "language_info": {
   "codemirror_mode": {
    "name": "ipython",
    "version": 3
   },
   "file_extension": ".py",
   "mimetype": "text/x-python",
   "name": "python",
   "nbconvert_exporter": "python",
   "pygments_lexer": "ipython3",
   "version": "3.9.0"
  }
 },
 "nbformat": 4,
 "nbformat_minor": 5
}
