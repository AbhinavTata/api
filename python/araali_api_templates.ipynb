{
 "cells": [
  {
   "cell_type": "markdown",
   "id": "341991a5",
   "metadata": {},
   "source": [
    "<h1 id=\"tocheading\">Table of Contents</h1>\n",
    "<div id=\"toc\"></div>"
   ]
  },
  {
   "cell_type": "code",
   "execution_count": null,
   "id": "957e01b7",
   "metadata": {},
   "outputs": [],
   "source": [
    "%%javascript\n",
    "$.getScript('https://kmahelona.github.io/ipython_notebook_goodies/ipython_notebook_toc.js')"
   ]
  },
  {
   "cell_type": "code",
   "execution_count": null,
   "id": "551ad5fd",
   "metadata": {},
   "outputs": [],
   "source": [
    "import api\n",
    "import araalictl\n",
    "import copy\n",
    "import imp\n",
    "import re"
   ]
  },
  {
   "cell_type": "code",
   "execution_count": null,
   "id": "a51bfe12",
   "metadata": {},
   "outputs": [],
   "source": [
    "# if you are a api dev and make changes\n",
    "imp.reload(araalictl)\n",
    "imp.reload(api)"
   ]
  },
  {
   "cell_type": "markdown",
   "id": "08654d3e",
   "metadata": {},
   "source": [
    "# Load up links so you can measure the efficacy of templates"
   ]
  },
  {
   "cell_type": "code",
   "execution_count": null,
   "id": "3f61790c",
   "metadata": {},
   "outputs": [],
   "source": [
    "%%time\n",
    "api.Runtime.zone2apps = None\n",
    "run = api.Runtime().refresh()"
   ]
  },
  {
   "cell_type": "markdown",
   "id": "9289007c",
   "metadata": {},
   "source": [
    "## If you want to play with a local copy"
   ]
  },
  {
   "cell_type": "code",
   "execution_count": null,
   "id": "b30456d1",
   "metadata": {},
   "outputs": [],
   "source": [
    "runlinks = copy.deepcopy(list(run.iterlinks()))"
   ]
  },
  {
   "cell_type": "markdown",
   "id": "9a57463f",
   "metadata": {},
   "source": [
    "## If you want snooze/define/take action on links"
   ]
  },
  {
   "cell_type": "code",
   "execution_count": null,
   "id": "2c00cee7",
   "metadata": {},
   "outputs": [],
   "source": [
    "#runlinks = run.iterlinks()"
   ]
  },
  {
   "cell_type": "code",
   "execution_count": null,
   "id": "c773065e",
   "metadata": {},
   "outputs": [],
   "source": [
    "api.LinkTable(runlinks,\n",
    "              lambda o: o[\"state\"] != \"DEFINED_POLICY\",\n",
    "              lambda o: re.search(\"ec2..*.amazonaws.com\", o[\"server\"].get(\"dns_pattern\", \"\")),\n",
    "             )"
   ]
  },
  {
   "cell_type": "code",
   "execution_count": null,
   "id": "20d4138d",
   "metadata": {},
   "outputs": [],
   "source": [
    "ltable = _"
   ]
  },
  {
   "cell_type": "code",
   "execution_count": null,
   "id": "b9892a4b",
   "metadata": {},
   "outputs": [],
   "source": [
    "api.Table(api.value_count([a.to_data()[\"server\"][\"dns_pattern\"] for a in ltable.links\n",
    "                           if len(a.to_data()[\"server\"][\"dns_pattern\"].split(\":\")) == 3\n",
    "                          ]))"
   ]
  },
  {
   "cell_type": "code",
   "execution_count": null,
   "id": "392d7220",
   "metadata": {},
   "outputs": [],
   "source": [
    "api.Table(api.value_count([a.to_data()[\"server\"][\"dns_pattern\"] for a in ltable.links]))"
   ]
  },
  {
   "cell_type": "code",
   "execution_count": null,
   "id": "b2983727",
   "metadata": {},
   "outputs": [],
   "source": [
    "ltable.snooze(0)"
   ]
  },
  {
   "cell_type": "code",
   "execution_count": null,
   "id": "b4a39518",
   "metadata": {},
   "outputs": [],
   "source": [
    "api.Table(run.review())"
   ]
  },
  {
   "cell_type": "code",
   "execution_count": null,
   "id": "644e64e0",
   "metadata": {
    "scrolled": true
   },
   "outputs": [],
   "source": [
    "api.Table(run.commit())"
   ]
  },
  {
   "cell_type": "markdown",
   "id": "1915f572",
   "metadata": {},
   "source": [
    "# Load all templates in Araali Marketplace"
   ]
  },
  {
   "cell_type": "code",
   "execution_count": null,
   "id": "42b6794d",
   "metadata": {},
   "outputs": [],
   "source": [
    "matchers = api.Templates(public=False)"
   ]
  },
  {
   "cell_type": "code",
   "execution_count": null,
   "id": "fd47b31e",
   "metadata": {
    "scrolled": true
   },
   "outputs": [],
   "source": [
    "api.Table(matchers.templates)"
   ]
  },
  {
   "cell_type": "code",
   "execution_count": null,
   "id": "2a7209a2",
   "metadata": {},
   "outputs": [],
   "source": [
    "t = [a for a in matchers.templates \n",
    "     if \"ec2\" in a.name()\n",
    "    ]\n",
    "assert len(t) == 1, [a.name() for a in t]\n",
    "t = copy.deepcopy(t[0])"
   ]
  },
  {
   "cell_type": "code",
   "execution_count": null,
   "id": "d97c1a0a",
   "metadata": {},
   "outputs": [],
   "source": [
    "t"
   ]
  },
  {
   "cell_type": "code",
   "execution_count": null,
   "id": "76d76b0d",
   "metadata": {},
   "outputs": [],
   "source": [
    "#t.rename(\"any-any-any-github.io\")"
   ]
  },
  {
   "cell_type": "code",
   "execution_count": null,
   "id": "0091ef7b",
   "metadata": {},
   "outputs": [],
   "source": [
    "api.Table(t.index)"
   ]
  },
  {
   "cell_type": "code",
   "execution_count": null,
   "id": "4ca20370",
   "metadata": {},
   "outputs": [],
   "source": [
    "api.Table(t.nodes())"
   ]
  },
  {
   "cell_type": "code",
   "execution_count": null,
   "id": "5207e802",
   "metadata": {},
   "outputs": [],
   "source": [
    "#t.update_node(1, {\"dns_pattern\": \".*:.*eks..*amazonaws.com:.*\"})"
   ]
  },
  {
   "cell_type": "code",
   "execution_count": null,
   "id": "4213e9af",
   "metadata": {
    "scrolled": true
   },
   "outputs": [],
   "source": [
    "t.add_links(ltable.links)"
   ]
  },
  {
   "cell_type": "code",
   "execution_count": null,
   "id": "bcafd322",
   "metadata": {},
   "outputs": [],
   "source": [
    "t"
   ]
  },
  {
   "cell_type": "code",
   "execution_count": null,
   "id": "2c02f659",
   "metadata": {
    "scrolled": true
   },
   "outputs": [],
   "source": [
    "t.push()"
   ]
  },
  {
   "cell_type": "code",
   "execution_count": null,
   "id": "25694326",
   "metadata": {},
   "outputs": [],
   "source": [
    "t"
   ]
  },
  {
   "cell_type": "code",
   "execution_count": null,
   "id": "5d267756",
   "metadata": {},
   "outputs": [],
   "source": []
  }
 ],
 "metadata": {
  "kernelspec": {
   "display_name": "Python 3 (ipykernel)",
   "language": "python",
   "name": "python3"
  },
  "language_info": {
   "codemirror_mode": {
    "name": "ipython",
    "version": 3
   },
   "file_extension": ".py",
   "mimetype": "text/x-python",
   "name": "python",
   "nbconvert_exporter": "python",
   "pygments_lexer": "ipython3",
   "version": "3.9.0"
  }
 },
 "nbformat": 4,
 "nbformat_minor": 5
}
