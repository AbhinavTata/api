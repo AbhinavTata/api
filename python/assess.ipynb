{
 "cells": [
  {
   "cell_type": "markdown",
   "id": "certified-costa",
   "metadata": {},
   "source": [
    "<h1 id=\"tocheading\">Table of Contents</h1>\n",
    "<div id=\"toc\"></div>"
   ]
  },
  {
   "cell_type": "code",
   "execution_count": null,
   "id": "fitted-scene",
   "metadata": {},
   "outputs": [],
   "source": [
    "%%javascript\n",
    "$.getScript('https://kmahelona.github.io/ipython_notebook_goodies/ipython_notebook_toc.js')"
   ]
  },
  {
   "cell_type": "markdown",
   "id": "canadian-bibliography",
   "metadata": {},
   "source": [
    "# Notebook Help"
   ]
  },
  {
   "cell_type": "markdown",
   "id": "hundred-pioneer",
   "metadata": {},
   "source": [
    "| What                  |Keyboard Shortcut |\n",
    "|:-|:-|\n",
    "| Run a cell            |Shift+Enter       |\n",
    "| Restart python kernel |Esc+0+0           |\n",
    "| Interrupt kernel      |Esc+i+i           |"
   ]
  },
  {
   "cell_type": "code",
   "execution_count": null,
   "id": "treated-spirit",
   "metadata": {},
   "outputs": [],
   "source": [
    "import copy\n",
    "import imp\n",
    "import pandas as pd\n",
    "import yaml"
   ]
  },
  {
   "cell_type": "code",
   "execution_count": null,
   "id": "subject-knife",
   "metadata": {},
   "outputs": [],
   "source": [
    "import araalictl\n",
    "import api\n",
    "import meta_policy\n",
    "import meta_policy_gcp\n",
    "import meta_policy_metadata_svc\n",
    "import meta_policy_araali\n",
    "import meta_policy_k8s\n",
    "import meta_policy_ubuntu\n",
    "import meta_policy_docker\n",
    "import meta_policy_aws\n",
    "import meta_policy_lacework\n",
    "import meta_policy_logdna\n",
    "import meta_policy_signalfx\n",
    "\n",
    "imp.reload(araalictl)\n",
    "imp.reload(api)\n",
    "imp.reload(meta_policy)\n",
    "imp.reload(meta_policy_gcp)\n",
    "imp.reload(meta_policy_metadata_svc)\n",
    "imp.reload(meta_policy_araali)\n",
    "imp.reload(meta_policy_k8s)\n",
    "imp.reload(meta_policy_ubuntu)\n",
    "imp.reload(meta_policy_docker)\n",
    "imp.reload(meta_policy_aws)\n",
    "imp.reload(meta_policy_lacework)\n",
    "imp.reload(meta_policy_logdna)\n",
    "imp.reload(meta_policy_signalfx)"
   ]
  },
  {
   "cell_type": "code",
   "execution_count": null,
   "id": "excess-framing",
   "metadata": {},
   "outputs": [],
   "source": [
    "tenant=\"\""
   ]
  },
  {
   "cell_type": "code",
   "execution_count": null,
   "id": "attended-thirty",
   "metadata": {
    "scrolled": true
   },
   "outputs": [],
   "source": [
    "pd.DataFrame(araalictl.get_agents(tenant))"
   ]
  },
  {
   "cell_type": "code",
   "execution_count": null,
   "id": "artistic-college",
   "metadata": {},
   "outputs": [],
   "source": [
    "apps = list(araalictl.get_apps(tenant))"
   ]
  },
  {
   "cell_type": "code",
   "execution_count": null,
   "id": "worldwide-remove",
   "metadata": {
    "scrolled": true
   },
   "outputs": [],
   "source": [
    "pd.DataFrame(apps)[\"zone\"].value_counts()"
   ]
  },
  {
   "cell_type": "code",
   "execution_count": null,
   "id": "cutting-rebel",
   "metadata": {},
   "outputs": [],
   "source": [
    "autok8s = [a for a in apps if \"araali-operator\" in a[\"app\"][\"name\"]][0]"
   ]
  },
  {
   "cell_type": "code",
   "execution_count": null,
   "id": "helpful-midnight",
   "metadata": {},
   "outputs": [],
   "source": [
    "autok8s"
   ]
  },
  {
   "cell_type": "code",
   "execution_count": null,
   "id": "dependent-petroleum",
   "metadata": {},
   "outputs": [],
   "source": [
    "def test_svc(dst, port):\n",
    "    return araalictl.ping(autok8s[\"zone\"], autok8s[\"app\"][\"name\"], dst, port,\n",
    "               autok8s[\"agent\"], tenant)"
   ]
  },
  {
   "cell_type": "code",
   "execution_count": null,
   "id": "personalized-fellow",
   "metadata": {},
   "outputs": [],
   "source": [
    "test_svc(\"169.254.169.254\", 80)"
   ]
  },
  {
   "cell_type": "code",
   "execution_count": null,
   "id": "skilled-maldives",
   "metadata": {},
   "outputs": [],
   "source": [
    "apps[0]"
   ]
  },
  {
   "cell_type": "code",
   "execution_count": null,
   "id": "destroyed-intellectual",
   "metadata": {},
   "outputs": [],
   "source": [
    "def find_za_reps(apps):\n",
    "    z_a = {}\n",
    "    for a in apps:\n",
    "        if a[\"app\"][\"name\"] == \"pause-container\": continue\n",
    "        z_a[(a[\"zone\"], a[\"app\"][\"name\"].split(\".\", 1)[0], a[\"agent\"])] = a[\"app\"][\"name\"]\n",
    "    return z_a\n",
    "\n",
    "def test_svc_reachability(dst, port):\n",
    "    for ((zone, app, agent), full_app) in find_za_reps(araalictl.get_apps(tenant)).items():\n",
    "        yield (zone, app, araalictl.ping(zone, full_app, dst, port, agent, tenant))"
   ]
  },
  {
   "cell_type": "code",
   "execution_count": null,
   "id": "transparent-substance",
   "metadata": {},
   "outputs": [],
   "source": [
    "pd.DataFrame(test_svc_reachability(\"169.254.169.254\", 80))"
   ]
  },
  {
   "cell_type": "code",
   "execution_count": null,
   "id": "solved-jumping",
   "metadata": {},
   "outputs": [],
   "source": [
    "[a for a in apps if \"cassandra\" in a[\"app\"][\"name\"]]"
   ]
  },
  {
   "cell_type": "code",
   "execution_count": null,
   "id": "accomplished-naples",
   "metadata": {},
   "outputs": [],
   "source": [
    "araalictl.ping(\"bhanu\", \"ra-boutique.cartservice.server\", \"www.facebook.com\", 80,\n",
    "               \"gtor.Fog.fog.bga.35e242d6340795b216659df3cc201bd400000622\", \"bga\")"
   ]
  },
  {
   "cell_type": "markdown",
   "id": "universal-museum",
   "metadata": {},
   "source": [
    "# Assessment"
   ]
  },
  {
   "cell_type": "markdown",
   "id": "median-lawrence",
   "metadata": {},
   "source": [
    "## Load it up"
   ]
  },
  {
   "cell_type": "code",
   "execution_count": null,
   "id": "artistic-latex",
   "metadata": {},
   "outputs": [],
   "source": [
    "%%time\n",
    "tenant=\"sc\"\n",
    "tenant=\"letsbloomio\"\n",
    "tenant=\"hungerbox\"\n",
    "tenant=\"euler\"\n",
    "tenant=\"fiddler\"\n",
    "tenant=\"digitizethings\"\n",
    "tenant=\"informatica\"\n",
    "tenant=\"reltio\"\n",
    "tenant=\"\"\n",
    "\n",
    "imp.reload(araalictl)\n",
    "imp.reload(api)\n",
    "api.Runtime.zone2apps = None                                                    \n",
    "run = api.Runtime(tenant) \n",
    "run = run.refresh()\n",
    "runlinks = list(run.iterlinks())"
   ]
  },
  {
   "cell_type": "code",
   "execution_count": null,
   "id": "diagnostic-notion",
   "metadata": {},
   "outputs": [],
   "source": [
    "tenant"
   ]
  },
  {
   "cell_type": "code",
   "execution_count": null,
   "id": "later-stone",
   "metadata": {},
   "outputs": [],
   "source": [
    "api.Table(api.Runtime.get_zone_apps(hard=False))"
   ]
  },
  {
   "cell_type": "markdown",
   "id": "reserved-courage",
   "metadata": {},
   "source": [
    "## Cleanup Chatty Egress Links"
   ]
  },
  {
   "cell_type": "code",
   "execution_count": null,
   "id": "neural-isaac",
   "metadata": {},
   "outputs": [],
   "source": [
    "class DnsCleaner:\n",
    "    policies = [\n",
    "        api.AcceptLink(filters=[\n",
    "                api.f.type(\"NAE\"),\n",
    "                api.f.endpoint(\"process\", [\"/usr/bin/dnf\", \"/bin/dnf\",\n",
    "                                           \"packagekitd\", \"gnome-\",\n",
    "                                          ], who=\"client\"),\n",
    "                api.f.endpoint(\"dns_pattern\", \":.*.:\", who=\"server\"),\n",
    "            ], changes=[\n",
    "            ]),       \n",
    "    ]"
   ]
  },
  {
   "cell_type": "code",
   "execution_count": null,
   "id": "conscious-sodium",
   "metadata": {},
   "outputs": [],
   "source": [
    "api.LinkTable(api.MetaPolicyRunner(DnsCleaner).run(runlinks).review(DnsCleaner))"
   ]
  },
  {
   "cell_type": "markdown",
   "id": "pretty-success",
   "metadata": {},
   "source": [
    "## World exposed services"
   ]
  },
  {
   "cell_type": "code",
   "execution_count": null,
   "id": "flexible-lease",
   "metadata": {},
   "outputs": [],
   "source": [
    "api.Table(run.process_stats(all=True),\n",
    "          lambda x: x[\"in degree\"] > 0,\n",
    "          lambda x: x[\"world exposed\"] == True,\n",
    "         )"
   ]
  },
  {
   "cell_type": "code",
   "execution_count": null,
   "id": "existing-deadline",
   "metadata": {},
   "outputs": [],
   "source": [
    "api.Table(run.process_stats(all=False),\n",
    "          lambda x: x[\"in degree\"] > 0,\n",
    "          lambda x: x[\"world exposed\"] == True,\n",
    "         )"
   ]
  },
  {
   "cell_type": "markdown",
   "id": "designed-hollow",
   "metadata": {},
   "source": [
    "## Home exposed services"
   ]
  },
  {
   "cell_type": "code",
   "execution_count": null,
   "id": "honest-annex",
   "metadata": {},
   "outputs": [],
   "source": [
    "api.Table(api.process_stats(run.iterlinks(), all=True),\n",
    "          lambda x: x[\"in degree\"] > 0,\n",
    "          lambda x: x[\"home exposed\"] == True,\n",
    "          #lambda x: x[\"araali exposed\"] == True,\n",
    "         )"
   ]
  },
  {
   "cell_type": "code",
   "execution_count": null,
   "id": "functioning-immunology",
   "metadata": {
    "scrolled": true
   },
   "outputs": [],
   "source": [
    "api.Table(find_process(\"com.araalinetworks.LaunchKt\"))"
   ]
  },
  {
   "cell_type": "markdown",
   "id": "alien-request",
   "metadata": {},
   "source": [
    "## Araali exposed services"
   ]
  },
  {
   "cell_type": "code",
   "execution_count": null,
   "id": "published-matrix",
   "metadata": {},
   "outputs": [],
   "source": [
    "imp.reload(api)"
   ]
  },
  {
   "cell_type": "code",
   "execution_count": null,
   "id": "bored-journalism",
   "metadata": {},
   "outputs": [],
   "source": [
    "#api.Table(run.process_stats(all=True))\n",
    "api.Table(api.process_stats(run.iterlinks(), all=True),\n",
    "          lambda x: x[\"in degree\"] > 0,\n",
    "          lambda x: x[\"pcr\"] > 0.7,\n",
    "          #lambda x: x[\"out degree\"] == 0,\n",
    "          lambda x: x[\"araali exposed\"] == True,\n",
    "         )"
   ]
  },
  {
   "cell_type": "code",
   "execution_count": null,
   "id": "unusual-neutral",
   "metadata": {},
   "outputs": [],
   "source": [
    "t = _"
   ]
  },
  {
   "cell_type": "code",
   "execution_count": null,
   "id": "comprehensive-factory",
   "metadata": {},
   "outputs": [],
   "source": [
    "%matplotlib inline"
   ]
  },
  {
   "cell_type": "code",
   "execution_count": null,
   "id": "union-table",
   "metadata": {},
   "outputs": [],
   "source": [
    "s = pd.Series([a[\"pcr\"] for a in t.links])"
   ]
  },
  {
   "cell_type": "code",
   "execution_count": null,
   "id": "female-papua",
   "metadata": {},
   "outputs": [],
   "source": [
    "s.plot.hist()"
   ]
  },
  {
   "cell_type": "markdown",
   "id": "julian-distribution",
   "metadata": {},
   "source": [
    "## Outside services"
   ]
  },
  {
   "cell_type": "code",
   "execution_count": null,
   "id": "digital-rally",
   "metadata": {
    "scrolled": false
   },
   "outputs": [],
   "source": [
    "api.Table(api.dns_stats(only_new=True, runlink=runlinks))"
   ]
  },
  {
   "cell_type": "code",
   "execution_count": null,
   "id": "preceding-skill",
   "metadata": {},
   "outputs": [],
   "source": [
    "pd.set_option('display.max_colwidth', 500)"
   ]
  },
  {
   "cell_type": "code",
   "execution_count": null,
   "id": "marine-component",
   "metadata": {
    "scrolled": true
   },
   "outputs": [],
   "source": [
    "api.Table(run.dns_stats(only_new=True, runlink=runlinks),\n",
    "          #lambda x: \".com\" not in x[\"dns\"] and \".net\" not in x[\"dns\"],\n",
    "         )"
   ]
  },
  {
   "cell_type": "code",
   "execution_count": null,
   "id": "asian-memory",
   "metadata": {},
   "outputs": [],
   "source": [
    "api.Table(run.server_stats(only_new=True, runlink=runlinks))"
   ]
  },
  {
   "cell_type": "code",
   "execution_count": null,
   "id": "consolidated-technology",
   "metadata": {},
   "outputs": [],
   "source": [
    "imp.reload(api)"
   ]
  },
  {
   "cell_type": "code",
   "execution_count": null,
   "id": "expired-passing",
   "metadata": {},
   "outputs": [],
   "source": [
    "api.Table(api.server_stats(only_new=True, runlink=runlinks))"
   ]
  },
  {
   "cell_type": "code",
   "execution_count": null,
   "id": "decreased-blake",
   "metadata": {},
   "outputs": [],
   "source": [
    "api.LinkTable(runlinks,\n",
    "              api.f.endpoint(\"endpoint_group\", \"__WORLD__\"), \n",
    "              api.f.endpoint(\"process\", \"/araali_backend.py\", who=\"server\"),              \n",
    "              #api.f.endpoint(\"subnet\", \"169.254.169.254\", who=\"server\"),\n",
    "              #api.f.neg(api.f.endpoint(\"dns_pattern\", None, who=\"server\")),\n",
    "              #api.f.neg(api.f.endpoint(\"app\", \"gidus-01\")),\n",
    "              #api.f.neg(api.f.endpoint(\"app\", \"idev-01\")),\n",
    "              #api.f.neg(api.f.endpoint(\"app\", \"kube-system\")),\n",
    "              #api.f.neg(api.f.endpoint(\"app\", \"linux\")),\n",
    "              #api.f.endpoint(\"dns_pattern\", \"datastore.googleapis.com\"),\n",
    "              #api.f.neg(api.f.endpoint(\"dns_pattern\", None, who=\"server\")),\n",
    "             )"
   ]
  },
  {
   "cell_type": "code",
   "execution_count": null,
   "id": "danish-shooting",
   "metadata": {},
   "outputs": [],
   "source": [
    "_.links[0]"
   ]
  },
  {
   "cell_type": "code",
   "execution_count": null,
   "id": "paperback-durham",
   "metadata": {},
   "outputs": [],
   "source": [
    "_.meta_policy(0)"
   ]
  },
  {
   "cell_type": "markdown",
   "id": "plain-joint",
   "metadata": {},
   "source": [
    "# Vulnerabilities"
   ]
  },
  {
   "cell_type": "code",
   "execution_count": null,
   "id": "charming-course",
   "metadata": {},
   "outputs": [],
   "source": [
    "%%time\n",
    "vulns = {}\n",
    "cvulns = []\n",
    "for za in api.Runtime.get_zone_apps(hard=False):\n",
    "    z = za[\"name\"]\n",
    "    for a in za[\"Apps\"]:\n",
    "        for comp in araalictl.get_compute(zone=z, app=a, tenant=tenant):\n",
    "            if comp[\"state\"] != 1: continue\n",
    "            maxv = 0\n",
    "            for v in comp.get(\"vulnerabilities\", []):\n",
    "                maxv = max(v.get(\"severity\", 0), maxv)\n",
    "            cvulns.append({\"zone\": z, \"app\": a, \n",
    "                           \"ip\": comp[\"ip_address\"], \n",
    "                           \"os\": comp[\"os_name\"],\n",
    "                           \"container\": comp[\"image\"], \n",
    "                           \"level\": vlevel[maxv]})\n",
    "            vulns[maxv] = vulns.get(maxv, 0) + 1"
   ]
  },
  {
   "cell_type": "code",
   "execution_count": null,
   "id": "consecutive-boost",
   "metadata": {},
   "outputs": [],
   "source": [
    "vlevel = {0: \"NONE\", 1: \"LOW\", 2: \"MEDIUM\", 3: \"HIGH\", 4: \"CRITICAL\"}\n",
    "pd.DataFrame([{\"vulnerability level\": vlevel[k], \"asset count\": v} for k,v in vulns.items()])"
   ]
  },
  {
   "cell_type": "code",
   "execution_count": null,
   "id": "decimal-david",
   "metadata": {},
   "outputs": [],
   "source": [
    "pd.DataFrame(cvulns)[lambda df: df.level == \"NONE\"][[\"os\"]].value_counts()"
   ]
  },
  {
   "cell_type": "code",
   "execution_count": null,
   "id": "prospective-binary",
   "metadata": {},
   "outputs": [],
   "source": [
    "pd.DataFrame(cvulns)[lambda df: df.level == \"NONE\"]"
   ]
  },
  {
   "cell_type": "code",
   "execution_count": null,
   "id": "postal-questionnaire",
   "metadata": {},
   "outputs": [],
   "source": [
    "link = \"https://console-meta.aws.araalinetworks.com/policies?zone=prod&app=dmzvm&start-time=2021-02-22T04%3A17%3A31.955Z&perimeter-ingress-pins=__WORLD__&_other=reset\"\n",
    "from IPython.display import HTML\n",
    "HTML(\"<a href=%s>world exposure</a>\" % link)"
   ]
  },
  {
   "cell_type": "code",
   "execution_count": null,
   "id": "cordless-shelf",
   "metadata": {},
   "outputs": [],
   "source": [
    "api.Table(find_process(\"vault-k8s\"))"
   ]
  },
  {
   "cell_type": "markdown",
   "id": "fourth-constitutional",
   "metadata": {},
   "source": [
    "# Installing Python Packages into Notebook"
   ]
  },
  {
   "cell_type": "code",
   "execution_count": null,
   "id": "solid-costs",
   "metadata": {},
   "outputs": [],
   "source": [
    "# This is needed only one time, to make sure all dependent packages are installed\n",
    "import sys\n",
    "!{sys.executable} -m pip install requests\n",
    "!{sys.executable} -m pip install pyyaml\n",
    "!{sys.executable} -m pip install oyaml\n",
    "!{sys.executable} -m pip install pandas\n",
    "!{sys.executable} -m pip install matplotlib"
   ]
  },
  {
   "cell_type": "code",
   "execution_count": null,
   "id": "suburban-transparency",
   "metadata": {},
   "outputs": [],
   "source": []
  }
 ],
 "metadata": {
  "kernelspec": {
   "display_name": "Python 3",
   "language": "python",
   "name": "python3"
  },
  "language_info": {
   "codemirror_mode": {
    "name": "ipython",
    "version": 3
   },
   "file_extension": ".py",
   "mimetype": "text/x-python",
   "name": "python",
   "nbconvert_exporter": "python",
   "pygments_lexer": "ipython3",
   "version": "3.9.0"
  }
 },
 "nbformat": 4,
 "nbformat_minor": 5
}
