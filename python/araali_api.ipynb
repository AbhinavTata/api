{
 "cells": [
  {
   "cell_type": "code",
   "execution_count": null,
   "id": "prime-nudist",
   "metadata": {},
   "outputs": [],
   "source": [
    "import sys\n",
    "!{sys.executable} -m pip install requests\n",
    "!{sys.executable} -m pip install pyyaml\n",
    "!{sys.executable} -m pip install oyaml"
   ]
  },
  {
   "cell_type": "code",
   "execution_count": null,
   "id": "charged-blogger",
   "metadata": {},
   "outputs": [],
   "source": [
    "import api"
   ]
  },
  {
   "cell_type": "code",
   "execution_count": null,
   "id": "waiting-enlargement",
   "metadata": {},
   "outputs": [],
   "source": [
    "import imp\n",
    "imp.reload(api)"
   ]
  },
  {
   "cell_type": "code",
   "execution_count": null,
   "id": "governing-modem",
   "metadata": {},
   "outputs": [],
   "source": [
    "run = api.Runtime()"
   ]
  },
  {
   "cell_type": "code",
   "execution_count": null,
   "id": "ceramic-database",
   "metadata": {},
   "outputs": [],
   "source": [
    "api.Runtime.zones"
   ]
  },
  {
   "cell_type": "code",
   "execution_count": null,
   "id": "convenient-group",
   "metadata": {},
   "outputs": [],
   "source": [
    "%%time\n",
    "run.refresh()"
   ]
  },
  {
   "cell_type": "code",
   "execution_count": null,
   "id": "silver-malta",
   "metadata": {},
   "outputs": [],
   "source": [
    "for zone in run.iterzones():\n",
    "    for app in zone.iterapps():\n",
    "        for link in app.iterlinks():\n",
    "            print(link)"
   ]
  },
  {
   "cell_type": "code",
   "execution_count": null,
   "id": "electronic-academy",
   "metadata": {},
   "outputs": [],
   "source": []
  }
 ],
 "metadata": {
  "kernelspec": {
   "display_name": "Python 3",
   "language": "python",
   "name": "python3"
  },
  "language_info": {
   "codemirror_mode": {
    "name": "ipython",
    "version": 3
   },
   "file_extension": ".py",
   "mimetype": "text/x-python",
   "name": "python",
   "nbconvert_exporter": "python",
   "pygments_lexer": "ipython3",
   "version": "3.9.0"
  }
 },
 "nbformat": 4,
 "nbformat_minor": 5
}
