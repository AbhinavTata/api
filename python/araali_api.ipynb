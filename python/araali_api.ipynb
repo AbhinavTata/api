{
 "cells": [
  {
   "cell_type": "markdown",
   "id": "binary-survival",
   "metadata": {},
   "source": [
    "# Installing python packages into Notebook"
   ]
  },
  {
   "cell_type": "code",
   "execution_count": null,
   "id": "numerous-chapter",
   "metadata": {},
   "outputs": [],
   "source": [
    "import sys\n",
    "!{sys.executable} -m pip install requests\n",
    "!{sys.executable} -m pip install pyyaml\n",
    "!{sys.executable} -m pip install oyaml\n",
    "!{sys.executable} -m pip install pandas"
   ]
  },
  {
   "cell_type": "code",
   "execution_count": null,
   "id": "figured-digest",
   "metadata": {},
   "outputs": [],
   "source": [
    "import api"
   ]
  },
  {
   "cell_type": "code",
   "execution_count": null,
   "id": "beneficial-characterization",
   "metadata": {},
   "outputs": [],
   "source": [
    "import imp\n",
    "imp.reload(api)"
   ]
  },
  {
   "cell_type": "markdown",
   "id": "nasty-conflict",
   "metadata": {},
   "source": [
    "# Runtime Review"
   ]
  },
  {
   "cell_type": "code",
   "execution_count": null,
   "id": "adjacent-creek",
   "metadata": {},
   "outputs": [],
   "source": [
    "run = api.Runtime()"
   ]
  },
  {
   "cell_type": "code",
   "execution_count": null,
   "id": "major-romania",
   "metadata": {},
   "outputs": [],
   "source": [
    "api.Runtime.zones"
   ]
  },
  {
   "cell_type": "markdown",
   "id": "multiple-publication",
   "metadata": {},
   "source": [
    "## Load up data"
   ]
  },
  {
   "cell_type": "code",
   "execution_count": null,
   "id": "featured-student",
   "metadata": {},
   "outputs": [],
   "source": [
    "%%time\n",
    "run = run.refresh()"
   ]
  },
  {
   "cell_type": "markdown",
   "id": "drawn-keeping",
   "metadata": {},
   "source": [
    "## Summary Stats"
   ]
  },
  {
   "cell_type": "code",
   "execution_count": null,
   "id": "beneficial-lancaster",
   "metadata": {},
   "outputs": [],
   "source": [
    "api.Table(run.stats())"
   ]
  },
  {
   "cell_type": "markdown",
   "id": "celtic-poster",
   "metadata": {},
   "source": [
    "### Alert Count"
   ]
  },
  {
   "cell_type": "code",
   "execution_count": null,
   "id": "cheap-court",
   "metadata": {},
   "outputs": [],
   "source": [
    "sum([a[\"Num Links\"] for a in run.stats()])"
   ]
  },
  {
   "cell_type": "markdown",
   "id": "improving-encoding",
   "metadata": {},
   "source": [
    "## All the links"
   ]
  },
  {
   "cell_type": "code",
   "execution_count": null,
   "id": "lyric-fifty",
   "metadata": {},
   "outputs": [],
   "source": [
    "api.LinkTable(run.iterlinks())"
   ]
  },
  {
   "cell_type": "code",
   "execution_count": null,
   "id": "rental-biology",
   "metadata": {},
   "outputs": [],
   "source": [
    "for zone in run.iterzones():\n",
    "    for app in zone.iterapps():\n",
    "        for link in app.iterlinks():\n",
    "            print(link)"
   ]
  },
  {
   "cell_type": "markdown",
   "id": "consecutive-geology",
   "metadata": {},
   "source": [
    "## Meta Policies and suggestions"
   ]
  },
  {
   "cell_type": "code",
   "execution_count": null,
   "id": "driven-silver",
   "metadata": {},
   "outputs": [],
   "source": [
    "api.mpr.run(run.iterlinks()).review()"
   ]
  },
  {
   "cell_type": "markdown",
   "id": "removable-column",
   "metadata": {},
   "source": [
    "## Relocation Example"
   ]
  },
  {
   "cell_type": "code",
   "execution_count": null,
   "id": "retired-choice",
   "metadata": {},
   "outputs": [],
   "source": [
    "api.LinkTable(run.iterzones(\"nightly\").iterapps(\"bendvm\").relocate(\"prod\", \"bendvm\").iterlinks())"
   ]
  },
  {
   "cell_type": "code",
   "execution_count": null,
   "id": "intensive-dining",
   "metadata": {},
   "outputs": [],
   "source": []
  }
 ],
 "metadata": {
  "kernelspec": {
   "display_name": "Python 3",
   "language": "python",
   "name": "python3"
  },
  "language_info": {
   "codemirror_mode": {
    "name": "ipython",
    "version": 3
   },
   "file_extension": ".py",
   "mimetype": "text/x-python",
   "name": "python",
   "nbconvert_exporter": "python",
   "pygments_lexer": "ipython3",
   "version": "3.9.0"
  }
 },
 "nbformat": 4,
 "nbformat_minor": 5
}
