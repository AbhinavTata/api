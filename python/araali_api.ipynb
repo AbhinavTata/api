{
 "cells": [
  {
   "cell_type": "markdown",
   "id": "flush-soldier",
   "metadata": {},
   "source": [
    "# Installing python packages into Notebook"
   ]
  },
  {
   "cell_type": "code",
   "execution_count": null,
   "id": "protective-belfast",
   "metadata": {},
   "outputs": [],
   "source": [
    "import sys\n",
    "!{sys.executable} -m pip install requests\n",
    "!{sys.executable} -m pip install pyyaml\n",
    "!{sys.executable} -m pip install oyaml\n",
    "!{sys.executable} -m pip install pandas"
   ]
  },
  {
   "cell_type": "code",
   "execution_count": null,
   "id": "saving-appraisal",
   "metadata": {},
   "outputs": [],
   "source": [
    "import api"
   ]
  },
  {
   "cell_type": "code",
   "execution_count": null,
   "id": "cleared-crawford",
   "metadata": {},
   "outputs": [],
   "source": [
    "import imp\n",
    "imp.reload(api)"
   ]
  },
  {
   "cell_type": "markdown",
   "id": "opponent-atmosphere",
   "metadata": {},
   "source": [
    "# Speciific App"
   ]
  },
  {
   "cell_type": "code",
   "execution_count": null,
   "id": "monthly-twist",
   "metadata": {},
   "outputs": [],
   "source": [
    "app = api.App(\"prod\", \"dmzvm\")"
   ]
  },
  {
   "cell_type": "code",
   "execution_count": null,
   "id": "chicken-tenant",
   "metadata": {},
   "outputs": [],
   "source": [
    "api.LinkTable(app.iterlinks(), api.f.endpoint(\"zone\", \"prod\"))"
   ]
  },
  {
   "cell_type": "markdown",
   "id": "excess-triangle",
   "metadata": {},
   "source": [
    "# Runtime Review"
   ]
  },
  {
   "cell_type": "code",
   "execution_count": null,
   "id": "million-mortgage",
   "metadata": {},
   "outputs": [],
   "source": [
    "run = api.Runtime()"
   ]
  },
  {
   "cell_type": "code",
   "execution_count": null,
   "id": "aggregate-chase",
   "metadata": {},
   "outputs": [],
   "source": [
    "api.Runtime.zones"
   ]
  },
  {
   "cell_type": "markdown",
   "id": "presidential-privilege",
   "metadata": {},
   "source": [
    "## Load up data"
   ]
  },
  {
   "cell_type": "code",
   "execution_count": null,
   "id": "dietary-dance",
   "metadata": {},
   "outputs": [],
   "source": [
    "%%time\n",
    "run = run.refresh()"
   ]
  },
  {
   "cell_type": "markdown",
   "id": "unsigned-courage",
   "metadata": {},
   "source": [
    "## Summary Stats"
   ]
  },
  {
   "cell_type": "code",
   "execution_count": null,
   "id": "smoking-poland",
   "metadata": {
    "scrolled": true
   },
   "outputs": [],
   "source": [
    "api.Table(run.stats())"
   ]
  },
  {
   "cell_type": "markdown",
   "id": "numeric-findings",
   "metadata": {},
   "source": [
    "### Alert Count"
   ]
  },
  {
   "cell_type": "code",
   "execution_count": null,
   "id": "pending-radical",
   "metadata": {},
   "outputs": [],
   "source": [
    "sum([a[\"Num Links\"] for a in run.stats()])"
   ]
  },
  {
   "cell_type": "markdown",
   "id": "secure-niger",
   "metadata": {},
   "source": [
    "## All the links"
   ]
  },
  {
   "cell_type": "code",
   "execution_count": null,
   "id": "elementary-acoustic",
   "metadata": {},
   "outputs": [],
   "source": [
    "api.LinkTable(run.iterlinks())"
   ]
  },
  {
   "cell_type": "code",
   "execution_count": null,
   "id": "further-dining",
   "metadata": {},
   "outputs": [],
   "source": [
    "for zone in run.iterzones():\n",
    "    for app in zone.iterapps():\n",
    "        for link in app.iterlinks():\n",
    "            print(link)"
   ]
  },
  {
   "cell_type": "markdown",
   "id": "twenty-advancement",
   "metadata": {},
   "source": [
    "# Meta Policies and Suggestions"
   ]
  },
  {
   "cell_type": "code",
   "execution_count": null,
   "id": "indian-athletics",
   "metadata": {},
   "outputs": [],
   "source": [
    "api.mpr.run(run.iterlinks()).review()"
   ]
  },
  {
   "cell_type": "markdown",
   "id": "decimal-example",
   "metadata": {},
   "source": [
    "## Pending Ones"
   ]
  },
  {
   "cell_type": "code",
   "execution_count": null,
   "id": "julian-motion",
   "metadata": {
    "scrolled": true
   },
   "outputs": [],
   "source": [
    "api.LinkTable(run.iterlinks(),\n",
    "              api.f.nstate(None),\n",
    "              #api.f.perimeter,\n",
    "              api.f.endpoint(\"zone\", \"nightly-k8s\"), api.f.endpoint(\"app\", \"^monitoring\\.\"),\n",
    "              api.f.neg(api.f.perimeter),\n",
    "              #api.f.same_zone, #api.f.ltype([\"AEG\", \"AIN\"]),\n",
    "              #api.f.neg(api.f.ltype([\"AEG\", \"AIN\"]), api.f.neg(api.f.same_zone)),\n",
    "              #api.f.neg(api.f.server_non_ip),\n",
    "              api.f.server_non_ip\n",
    "             )"
   ]
  },
  {
   "cell_type": "markdown",
   "id": "polish-niagara",
   "metadata": {},
   "source": [
    "## Trying a new Meta Policy"
   ]
  },
  {
   "cell_type": "code",
   "execution_count": null,
   "id": "academic-anderson",
   "metadata": {},
   "outputs": [],
   "source": [
    "class MpTest:                                                                                                                                  \n",
    "    policies = [                                                                \n",
    "        api.AcceptLink(filters=[                                                    \n",
    "                api.f.endpoint(\"app\", \"monitoring.alertmanager.alertmanager\"),               \n",
    "                api.f.ltype(\"NAE\"),                                                 \n",
    "                api.f.endpoint(\"process\", \"alertmanager\", who=\"client\"),              \n",
    "                api.f.endpoint(\"dns_pattern\", \":alertmanager-main-2.alertmanager-operated.monitoring.svc.cluster.local:\", who=\"server\"),\n",
    "            ], changes=[                                                        \n",
    "                (\"server\", \"dns_pattern\", \":.alertmanager-main-2.alertmanager-operated.monitoring.svc.cluster.local:\"),         \n",
    "            ]),                                                                                                                                \n",
    "    ]    "
   ]
  },
  {
   "cell_type": "code",
   "execution_count": null,
   "id": "private-second",
   "metadata": {},
   "outputs": [],
   "source": [
    "api.MetaPolicyRunner(MpTest).run(run.iterlinks()).review(MpTest)"
   ]
  },
  {
   "cell_type": "markdown",
   "id": "capital-belfast",
   "metadata": {},
   "source": [
    "# Relocation Example"
   ]
  },
  {
   "cell_type": "code",
   "execution_count": null,
   "id": "dangerous-pleasure",
   "metadata": {},
   "outputs": [],
   "source": [
    "api.LinkTable(run.iterzones(\"nightly\").iterapps(\"bendvm\").relocate(\"prod\", \"bendvm\").iterlinks())"
   ]
  },
  {
   "cell_type": "code",
   "execution_count": null,
   "id": "vietnamese-walter",
   "metadata": {},
   "outputs": [],
   "source": [
    "api.LinkTable(run.iterzones(\"nightly\").iterapps(\"bendvm\").to_lib().iterlinks())"
   ]
  },
  {
   "cell_type": "code",
   "execution_count": null,
   "id": "interracial-treasurer",
   "metadata": {},
   "outputs": [],
   "source": []
  }
 ],
 "metadata": {
  "kernelspec": {
   "display_name": "Python 3",
   "language": "python",
   "name": "python3"
  },
  "language_info": {
   "codemirror_mode": {
    "name": "ipython",
    "version": 3
   },
   "file_extension": ".py",
   "mimetype": "text/x-python",
   "name": "python",
   "nbconvert_exporter": "python",
   "pygments_lexer": "ipython3",
   "version": "3.9.0"
  }
 },
 "nbformat": 4,
 "nbformat_minor": 5
}
