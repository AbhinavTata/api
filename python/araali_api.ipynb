{
 "cells": [
  {
   "cell_type": "markdown",
   "id": "certified-costa",
   "metadata": {},
   "source": [
    "<h1 id=\"tocheading\">Table of Contents</h1>\n",
    "<div id=\"toc\"></div>"
   ]
  },
  {
   "cell_type": "code",
   "execution_count": null,
   "id": "fitted-scene",
   "metadata": {},
   "outputs": [],
   "source": [
    "%%javascript\n",
    "$.getScript('https://kmahelona.github.io/ipython_notebook_goodies/ipython_notebook_toc.js')"
   ]
  },
  {
   "cell_type": "markdown",
   "id": "canadian-bibliography",
   "metadata": {},
   "source": [
    "# Notebook Help"
   ]
  },
  {
   "cell_type": "markdown",
   "id": "hundred-pioneer",
   "metadata": {},
   "source": [
    "| What                  |Keyboard Shortcut |\n",
    "|:-|:-|\n",
    "| Run a cell            |Shift+Enter       |\n",
    "| Restart python kernel |Esc+0+0           |\n",
    "| Interrupt kernel      |Esc+i+i           |"
   ]
  },
  {
   "cell_type": "code",
   "execution_count": null,
   "id": "treated-spirit",
   "metadata": {},
   "outputs": [],
   "source": [
    "import copy\n",
    "import imp\n",
    "import pandas as pd\n",
    "import yaml"
   ]
  },
  {
   "cell_type": "code",
   "execution_count": null,
   "id": "subject-knife",
   "metadata": {},
   "outputs": [],
   "source": [
    "import araalictl\n",
    "import api\n",
    "import meta_policy\n",
    "import meta_policy_gcp\n",
    "\n",
    "imp.reload(araalictl)\n",
    "imp.reload(api)\n",
    "imp.reload(meta_policy)\n",
    "imp.reload(meta_policy_gcp)"
   ]
  },
  {
   "cell_type": "markdown",
   "id": "european-bahamas",
   "metadata": {},
   "source": [
    "# Specific App"
   ]
  },
  {
   "cell_type": "code",
   "execution_count": null,
   "id": "understood-chapel",
   "metadata": {},
   "outputs": [],
   "source": [
    "app = api.App(\"nightly\", \"dmzvm\")"
   ]
  },
  {
   "cell_type": "code",
   "execution_count": null,
   "id": "downtown-wrong",
   "metadata": {
    "scrolled": true
   },
   "outputs": [],
   "source": [
    "api.LinkTable(app.iterlinks())"
   ]
  },
  {
   "cell_type": "markdown",
   "id": "laughing-johnston",
   "metadata": {},
   "source": [
    "## Relocation"
   ]
  },
  {
   "cell_type": "code",
   "execution_count": null,
   "id": "narrow-pickup",
   "metadata": {},
   "outputs": [],
   "source": [
    "app = api.App(\"nightly\", \"dmzvm\")"
   ]
  },
  {
   "cell_type": "code",
   "execution_count": null,
   "id": "happy-chamber",
   "metadata": {},
   "outputs": [],
   "source": [
    "api.Table(app.link_stats(all=True, only_new=True))"
   ]
  },
  {
   "cell_type": "code",
   "execution_count": null,
   "id": "domestic-peripheral",
   "metadata": {},
   "outputs": [],
   "source": [
    "app2 = app.relocate(\"prod\", \"dmzvm\")"
   ]
  },
  {
   "cell_type": "code",
   "execution_count": null,
   "id": "published-island",
   "metadata": {},
   "outputs": [],
   "source": [
    "yaml.dump(app.to_data(), open(\"file1.yaml\", \"w\"))\n",
    "yaml.dump(app2.to_data(), open(\"file2.yaml\", \"w\"))\n",
    "print(\"Run in terminal:\\n\\t tkdiff file1.yaml file2.yaml\")"
   ]
  },
  {
   "cell_type": "code",
   "execution_count": null,
   "id": "surrounded-darwin",
   "metadata": {
    "scrolled": true
   },
   "outputs": [],
   "source": [
    "api.LinkTable(\n",
    "    api.MetaPolicyRunner(\n",
    "        meta_policy.NightlyToProd, meta_policy.AcceptAllDefined)\n",
    "    .run(app2.iterlinks()).review(todo=False)\n",
    ")"
   ]
  },
  {
   "cell_type": "code",
   "execution_count": null,
   "id": "radical-insulation",
   "metadata": {
    "scrolled": true
   },
   "outputs": [],
   "source": [
    "app2.commit()"
   ]
  },
  {
   "cell_type": "markdown",
   "id": "herbal-destruction",
   "metadata": {},
   "source": [
    "# Runtime Review"
   ]
  },
  {
   "cell_type": "markdown",
   "id": "unavailable-jacob",
   "metadata": {},
   "source": [
    "## Specific zones and apps only"
   ]
  },
  {
   "cell_type": "code",
   "execution_count": null,
   "id": "suspended-review",
   "metadata": {},
   "outputs": [],
   "source": [
    "api.Runtime.zone2apps = {                                                               \n",
    "    \"dev\": [\"cassandra\"],                                                   \n",
    "    \"ops\": [\"cassandra\"],                                                   \n",
    "    \"prod\": [\"dmzvm\", \"bendvm\"],                                            \n",
    "    \"nightly\": [\"dmzvm\", \"bendvm\"],                                         \n",
    "    \"prod-k8s\": [\"k8s\", \"kube-system\", \"monitoring\", \"prod-araali-operator\", \"prod-bend\"],\n",
    "    \"nightly-k8s\": [\"k8s\", \"kube-system\", \"monitoring\", \"prod-araali-operator\", \"prod-bend\"],\n",
    "}\n",
    "run = api.Runtime()"
   ]
  },
  {
   "cell_type": "code",
   "execution_count": null,
   "id": "sitting-processor",
   "metadata": {},
   "outputs": [],
   "source": [
    "%%time\n",
    "run = run.refresh()"
   ]
  },
  {
   "cell_type": "markdown",
   "id": "cordless-upper",
   "metadata": {},
   "source": [
    "## All Zones and Apps"
   ]
  },
  {
   "cell_type": "code",
   "execution_count": null,
   "id": "passive-karma",
   "metadata": {},
   "outputs": [],
   "source": [
    "api.Runtime.zone2apps = None\n",
    "run = api.Runtime()"
   ]
  },
  {
   "cell_type": "code",
   "execution_count": null,
   "id": "national-mozambique",
   "metadata": {},
   "outputs": [],
   "source": [
    "%%time\n",
    "run = run.refresh()"
   ]
  },
  {
   "cell_type": "code",
   "execution_count": null,
   "id": "economic-replication",
   "metadata": {},
   "outputs": [],
   "source": [
    "api.Table(api.Runtime.get_zone_apps(hard=False))"
   ]
  },
  {
   "cell_type": "markdown",
   "id": "psychological-quarterly",
   "metadata": {},
   "source": [
    "## Summary Stats"
   ]
  },
  {
   "cell_type": "code",
   "execution_count": null,
   "id": "known-madonna",
   "metadata": {
    "scrolled": true
   },
   "outputs": [],
   "source": [
    "api.Table(run.stats(all=True))"
   ]
  },
  {
   "cell_type": "markdown",
   "id": "inner-terry",
   "metadata": {},
   "source": [
    "## All the links"
   ]
  },
  {
   "cell_type": "code",
   "execution_count": null,
   "id": "endangered-insertion",
   "metadata": {},
   "outputs": [],
   "source": [
    "api.LinkTable(run.iterlinks())"
   ]
  },
  {
   "cell_type": "code",
   "execution_count": null,
   "id": "sized-africa",
   "metadata": {},
   "outputs": [],
   "source": [
    "for zone in run.iterzones():\n",
    "    for app in zone.iterapps():\n",
    "        for link in app.iterlinks():\n",
    "            print(link)"
   ]
  },
  {
   "cell_type": "markdown",
   "id": "protective-copying",
   "metadata": {},
   "source": [
    "## Link Science"
   ]
  },
  {
   "cell_type": "code",
   "execution_count": null,
   "id": "distributed-caution",
   "metadata": {},
   "outputs": [],
   "source": [
    "runlinks = copy.deepcopy(list(run.iterlinks()))"
   ]
  },
  {
   "cell_type": "markdown",
   "id": "wired-compatibility",
   "metadata": {},
   "source": [
    "### Alert Count"
   ]
  },
  {
   "cell_type": "code",
   "execution_count": null,
   "id": "regular-spectrum",
   "metadata": {},
   "outputs": [],
   "source": [
    "api.Table(run.link_stats(all=False, only_new=True, runlink=runlinks))"
   ]
  },
  {
   "cell_type": "code",
   "execution_count": null,
   "id": "ongoing-facial",
   "metadata": {
    "scrolled": true
   },
   "outputs": [],
   "source": [
    "api.Table(run.dns_stats(only_new=True, runlink=runlinks))"
   ]
  },
  {
   "cell_type": "markdown",
   "id": "dependent-foster",
   "metadata": {},
   "source": [
    "# Meta Policies and Suggestions"
   ]
  },
  {
   "cell_type": "code",
   "execution_count": null,
   "id": "auburn-lemon",
   "metadata": {},
   "outputs": [],
   "source": [
    "api.LinkTable(api.mpr.run(runlinks).review(todo=False))"
   ]
  },
  {
   "cell_type": "markdown",
   "id": "widespread-collapse",
   "metadata": {},
   "source": [
    "## Pending Ones"
   ]
  },
  {
   "cell_type": "code",
   "execution_count": null,
   "id": "juvenile-flashing",
   "metadata": {
    "scrolled": true
   },
   "outputs": [],
   "source": [
    "api.LinkTable(runlinks,\n",
    "              api.f.new_state(None),\n",
    "              api.f.state(\"BASELINE_ALERT\"),\n",
    "              #api.f.endpoint(\"process\", \"dockerd\", who=\"client\"),              \n",
    "              #api.f.endpoint(\"zone\", \"nightly-k8s\"), api.f.endpoint(\"app\", \"^monitoring\\.\"),\n",
    "              #api.f.any(api.f.same_zone, api.f.ltype([\"NAI\", \"NAE\"])),\n",
    "              #api.f.neg(api.f.endpoint(\"process\", \"grafana-server\", who=\"client\")),\n",
    "              #api.f.neg(api.f.same_zone), api.f.ltype([\"AEG\", \"AIN\"]),\n",
    "              #api.f.same_zone, api.f.ltype([\"AEG\", \"AIN\"]),\n",
    "              #api.f.neg(api.f.ltype([\"AEG\", \"AIN\"]), api.f.same_zone),\n",
    "              #api.f.perimeter,\n",
    "              #api.f.neg(api.f.perimeter),\n",
    "              #api.f.neg(api.f.server_non_ip),\n",
    "              #api.f.server_non_ip\n",
    "             )"
   ]
  },
  {
   "cell_type": "code",
   "execution_count": null,
   "id": "distinct-environment",
   "metadata": {
    "scrolled": true
   },
   "outputs": [],
   "source": [
    "_.meta_policy()"
   ]
  },
  {
   "cell_type": "markdown",
   "id": "loved-belief",
   "metadata": {},
   "source": [
    "## Trying a new Meta Policy"
   ]
  },
  {
   "cell_type": "code",
   "execution_count": null,
   "id": "thick-salad",
   "metadata": {},
   "outputs": [],
   "source": [
    "class MpTest:\n",
    "    policies = [\n",
    "        api.AcceptLink(filters=[                                                \n",
    "                api.f.ltype(\"NAE\"),                                             \n",
    "                api.f.endpoint(\"process\", \"dockerd\", who=\"client\"),             \n",
    "                api.f.endpoint(\"dns_pattern\", [\":.*.docker.io:\"], who=\"server\"),\n",
    "            ], changes=[                                                        \n",
    "                (\"server\", \"dns_pattern\", \":.*\\.docker\\.io:\"),                  \n",
    "            ]),\n",
    "    ]"
   ]
  },
  {
   "cell_type": "code",
   "execution_count": null,
   "id": "thrown-minnesota",
   "metadata": {},
   "outputs": [],
   "source": [
    "api.MetaPolicyRunner(MpTest).run(run.iterlinks()).review(MpTest)"
   ]
  },
  {
   "cell_type": "markdown",
   "id": "endangered-dimension",
   "metadata": {},
   "source": [
    "# Documentation"
   ]
  },
  {
   "cell_type": "markdown",
   "id": "ahead-understanding",
   "metadata": {},
   "source": [
    "## Meta-Policy HowTo"
   ]
  },
  {
   "cell_type": "markdown",
   "id": "fewer-fiber",
   "metadata": {},
   "source": [
    "Meta policy are policies that are in turn used to accept policies (with or without changes and transformations). Araali policies are least permissive and precise, but they can be auto-accepted using patterns encoded into these meta policies. While accepting the policy, the endpoint parameters can be changed/rewritten (for client or server params in the policy).\n",
    "\n",
    "Using the info displayed for a link in Alert state, create a meta policy using the following guidelines depending on the link type:\n",
    " * NAE\n",
    "   * First find out if the process is already in some other meta-policy block you may have defined\n",
    "     * It might be simple enough to add another dns into an existing meta policy (first example).\n",
    "     * If there is change to the default suggested policy, you should not use a list for dns_pattern, and instead have one block per dns_pattern that is rewritten\n",
    "       * In the first example below, if you put \\*.pythonhosted.\\*, it will end up using that even for links that match pypi.org\n",
    "       * Instead use the separate block as shown in the second example\n",
    "   * Else define a new block.\n",
    "     * Typically you would want to have client app, process, and dns_pattern (to keep things zone independent) in the link filters.\n",
    "<pre>        \n",
    "    AcceptLink(filters=[                                                    \n",
    "            f.ltype(\"NAE\"),                                                 \n",
    "            f.endpoint(\"app\", \"cassandra\"),                                 \n",
    "            f.endpoint(\"process\", \"/usr/bin/pip3\", who=\"client\"),           \n",
    "            f.endpoint(\"dns_pattern\", [\":pypi.python.org:\",                 \n",
    "                                       \":pypi.org:\",                        \n",
    "                                       \":files.pythonhosted.org:\"], who=\"server\"),\n",
    "        ], changes=[                                                        \n",
    "        ]),\n",
    "    AcceptLink(filters=[                                                    \n",
    "            f.endpoint(\"process\", [\"/usr/bin/yum\", \"amazon_linux_extras\"], who=\"client\"),\n",
    "            f.endpoint(\"dns_pattern\", \":amazonlinux.us-west-2.amazonaws.com:\", who=\"server\"),\n",
    "        ], changes=[                                                        \n",
    "            (\"server\", \"dns_pattern\", \":amazonlinux\\..*\\.amazonaws\\.com:\"), \n",
    "        ]),\n",
    "</pre>            \n",
    "  * NAI\n",
    "    * see if the service really needs public internet exposure. These are easy to spot with the pre-defined perimeter filter.\n",
    "    * Define a block with f.perimeter filter and the process and app that needs perimeter exposure\n",
    "    * Araali by default exposes these to the world, but you can restrict/change it to a subnet instead.\n",
    "<pre>        \n",
    "    AcceptLink(filters=[                                                    \n",
    "            f.perimeter,                                                    \n",
    "            f.endpoint(\"zone\", [\"prod\", \"nightly\", \"dev\", \"ops\", \"nightly-k8s\"], who=\"server\"),\n",
    "            f.endpoint(\"app\", [\"dmzvm\", \"cassandra\", \"k8s\"], who=\"server\", flags=re.IGNORECASE), \n",
    "            f.endpoint(\"process\", [\"sshd\", \"haproxy\"], who=\"server\", flags=re.IGNORECASE),\n",
    "        ], changes=[\n",
    "            (\"client\", \"network\", \"192.168.0.0\"),\n",
    "            (\"client\", \"mask\", 16),\n",
    "        ]),\n",
    "</pre>            \n",
    "            \n",
    "  * INT\n",
    "    * There is no need to specify zone, because internal implies it by default\n",
    "<pre>\n",
    "    AcceptLink(filters=[                                                    \n",
    "        f.ltype(\"INT\"),                                                 \n",
    "        f.endpoint(\"app\", \"monitoring.grafana.grafana\"),          \n",
    "        f.endpoint(\"process\", \"grafana-server\", who=\"client\"),          \n",
    "        f.endpoint(\"process\", \"prometheus\", who=\"server\"),              \n",
    "    ], changes=[                                                        \n",
    "    ]),\n",
    "</pre>            \n",
    "  * AIN\n",
    "    * These can be ommitted\n",
    "      * Covering AEG automatically covers this category.\n",
    "  * AEG\n",
    "    * If both client and server should be in the same zone, use a same_zone filter, else both client and server zones can be explicitly specified (cross zone case). The example below uses same_zone.\n",
    "<pre>\n",
    "    AcceptLink(filters=[                                                    \n",
    "            f.same_zone,                                                    \n",
    "            f.ltype(\"AEG\"),                                                 \n",
    "            f.endpoint(\"app\", \"dmzvm\", who=\"client\"),                       \n",
    "            f.endpoint(\"process\", \"/var/lib/haproxy/healthcheck.py\", who=\"client\"),\n",
    "            f.endpoint(\"app\", \"bendvm.bend.backend\", who=\"server\"),         \n",
    "            f.endpoint(\"process\", \"prometheus\", who=\"server\"),              \n",
    "        ], changes=[                                                        \n",
    "        ]),\n",
    "</pre>            "
   ]
  },
  {
   "cell_type": "markdown",
   "id": "fourth-constitutional",
   "metadata": {},
   "source": [
    "# Installing Python Packages into Notebook"
   ]
  },
  {
   "cell_type": "code",
   "execution_count": null,
   "id": "solid-costs",
   "metadata": {},
   "outputs": [],
   "source": [
    "# This is needed only one time, to make sure all dependent packages are installed\n",
    "import sys\n",
    "!{sys.executable} -m pip install requests\n",
    "!{sys.executable} -m pip install pyyaml\n",
    "!{sys.executable} -m pip install oyaml\n",
    "!{sys.executable} -m pip install pandas"
   ]
  },
  {
   "cell_type": "code",
   "execution_count": null,
   "id": "suburban-transparency",
   "metadata": {},
   "outputs": [],
   "source": []
  }
 ],
 "metadata": {
  "kernelspec": {
   "display_name": "Python 3",
   "language": "python",
   "name": "python3"
  },
  "language_info": {
   "codemirror_mode": {
    "name": "ipython",
    "version": 3
   },
   "file_extension": ".py",
   "mimetype": "text/x-python",
   "name": "python",
   "nbconvert_exporter": "python",
   "pygments_lexer": "ipython3",
   "version": "3.9.0"
  }
 },
 "nbformat": 4,
 "nbformat_minor": 5
}
