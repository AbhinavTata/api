{
 "cells": [
  {
   "cell_type": "markdown",
   "id": "0bbde7e4",
   "metadata": {},
   "source": [
    "<h1 id=\"tocheading\">Table of Contents</h1>\n",
    "<div id=\"toc\"></div>"
   ]
  },
  {
   "cell_type": "code",
   "execution_count": 1,
   "id": "9f3d0c36",
   "metadata": {},
   "outputs": [
    {
     "data": {
      "application/javascript": [
       "$.getScript('https://kmahelona.github.io/ipython_notebook_goodies/ipython_notebook_toc.js')\n"
      ],
      "text/plain": [
       "<IPython.core.display.Javascript object>"
      ]
     },
     "metadata": {},
     "output_type": "display_data"
    }
   ],
   "source": [
    "%%javascript\n",
    "$.getScript('https://kmahelona.github.io/ipython_notebook_goodies/ipython_notebook_toc.js')"
   ]
  },
  {
   "cell_type": "markdown",
   "id": "e59a24d7",
   "metadata": {},
   "source": [
    "# Notebook Help"
   ]
  },
  {
   "cell_type": "markdown",
   "id": "69edeac4",
   "metadata": {},
   "source": [
    "| What                  |Keyboard Shortcut |\n",
    "|:-|:-|\n",
    "| Run a cell            |Shift+Enter       |\n",
    "| Restart python kernel |Esc+0+0           |\n",
    "| Interrupt kernel      |Esc+i+i           |"
   ]
  },
  {
   "cell_type": "code",
   "execution_count": 4,
   "id": "a638c04b",
   "metadata": {},
   "outputs": [],
   "source": [
    "import copy\n",
    "import imp\n",
    "import pandas as pd\n",
    "import yaml"
   ]
  },
  {
   "cell_type": "code",
   "execution_count": 5,
   "id": "131cfe75",
   "metadata": {},
   "outputs": [
    {
     "name": "stdout",
     "output_type": "stream",
     "text": [
      "Adding meta-policies to runner\n",
      "Adding meta-policies to runner\n",
      "Adding meta-policies to runner\n",
      "Adding meta-policies to runner\n",
      "Adding meta-policies to runner\n",
      "Adding meta-policies to runner\n",
      "Adding meta-policies to runner\n",
      "Adding meta-policies to runner\n",
      "Adding meta-policies to runner\n",
      "Adding meta-policies to runner\n",
      "Adding meta-policies to runner\n",
      "Adding meta-policies to runner\n",
      "Adding meta-policies to runner\n",
      "Adding meta-policies to runner\n",
      "Adding meta-policies to runner\n",
      "Adding meta-policies to runner\n"
     ]
    },
    {
     "data": {
      "text/plain": [
       "<module 'meta_policy_lacework' from '/Users/abhinavtata/opensrc/api/python/meta_policy_lacework.py'>"
      ]
     },
     "execution_count": 5,
     "metadata": {},
     "output_type": "execute_result"
    }
   ],
   "source": [
    "import araalictl\n",
    "import api\n",
    "import meta_policy_gcp\n",
    "import meta_policy_metadata_svc\n",
    "import meta_policy_araali\n",
    "import meta_policy_k8s\n",
    "import meta_policy_ubuntu\n",
    "import meta_policy_docker\n",
    "import meta_policy_aws\n",
    "import meta_policy_lacework\n",
    "\n",
    "imp.reload(araalictl)\n",
    "imp.reload(api)\n",
    "imp.reload(meta_policy_gcp)\n",
    "imp.reload(meta_policy_metadata_svc)\n",
    "imp.reload(meta_policy_araali)\n",
    "imp.reload(meta_policy_k8s)\n",
    "imp.reload(meta_policy_ubuntu)\n",
    "imp.reload(meta_policy_docker)\n",
    "imp.reload(meta_policy_aws)\n",
    "imp.reload(meta_policy_lacework)"
   ]
  },
  {
   "cell_type": "code",
   "execution_count": 6,
   "id": "53f62f2f",
   "metadata": {},
   "outputs": [
    {
     "name": "stdout",
     "output_type": "stream",
     "text": [
      "Adding meta-policies to runner\n",
      "Adding meta-policies to runner\n"
     ]
    },
    {
     "data": {
      "text/plain": [
       "<module 'meta_policy' from '/Users/abhinavtata/opensrc/api/python/meta_policy.py'>"
      ]
     },
     "execution_count": 6,
     "metadata": {},
     "output_type": "execute_result"
    }
   ],
   "source": [
    "import meta_policy\n",
    "imp.reload(meta_policy)"
   ]
  },
  {
   "cell_type": "markdown",
   "id": "af29a20c",
   "metadata": {},
   "source": [
    "# Specific App"
   ]
  },
  {
   "cell_type": "code",
   "execution_count": 8,
   "id": "6cb3a96f",
   "metadata": {},
   "outputs": [],
   "source": [
    "app = api.App(\"nightly\", \"bendvm\")"
   ]
  },
  {
   "cell_type": "code",
   "execution_count": null,
   "id": "0126e076",
   "metadata": {
    "scrolled": true
   },
   "outputs": [],
   "source": [
    "api.LinkTable(app.iterlinks())"
   ]
  },
  {
   "cell_type": "code",
   "execution_count": null,
   "id": "d6afe8c1",
   "metadata": {},
   "outputs": [],
   "source": [
    "app.commit()"
   ]
  },
  {
   "cell_type": "markdown",
   "id": "5aca0e35",
   "metadata": {},
   "source": [
    "## Zoom into link"
   ]
  },
  {
   "cell_type": "code",
   "execution_count": null,
   "id": "a802356c",
   "metadata": {},
   "outputs": [],
   "source": [
    "%%time\n",
    "flow_page = app.links[50].zoom()"
   ]
  },
  {
   "cell_type": "code",
   "execution_count": null,
   "id": "87d46cbf",
   "metadata": {},
   "outputs": [],
   "source": [
    "api.Table(flow_page.links)"
   ]
  },
  {
   "cell_type": "code",
   "execution_count": null,
   "id": "9b377de9",
   "metadata": {},
   "outputs": [],
   "source": [
    "next_page = flow_page.next_page()"
   ]
  },
  {
   "cell_type": "markdown",
   "id": "f410d939",
   "metadata": {},
   "source": [
    "## Relocation"
   ]
  },
  {
   "cell_type": "code",
   "execution_count": null,
   "id": "bfac1dab",
   "metadata": {},
   "outputs": [],
   "source": [
    "app = api.App(\"nightly\", \"dmzvm\")"
   ]
  },
  {
   "cell_type": "code",
   "execution_count": null,
   "id": "7b74c17f",
   "metadata": {},
   "outputs": [],
   "source": [
    "api.Table(app.link_stats(all=True, only_new=True))"
   ]
  },
  {
   "cell_type": "code",
   "execution_count": null,
   "id": "1f7d7559",
   "metadata": {},
   "outputs": [],
   "source": [
    "app2 = app.relocate(\"prod\", \"dmzvm\")"
   ]
  },
  {
   "cell_type": "code",
   "execution_count": null,
   "id": "9b47ac65",
   "metadata": {},
   "outputs": [],
   "source": [
    "yaml.dump(app.to_data(), open(\"file1.yaml\", \"w\"))\n",
    "yaml.dump(app2.to_data(), open(\"file2.yaml\", \"w\"))\n",
    "print(\"Run in terminal:\\n\\t tkdiff file1.yaml file2.yaml\")"
   ]
  },
  {
   "cell_type": "code",
   "execution_count": null,
   "id": "c545cbab",
   "metadata": {
    "scrolled": true
   },
   "outputs": [],
   "source": [
    "api.LinkTable(\n",
    "    api.MetaPolicyRunner(\n",
    "        meta_policy.NightlyToProd, meta_policy.AcceptAllDefined)\n",
    "    .run(app2.iterlinks()).review(todo=False)\n",
    ")"
   ]
  },
  {
   "cell_type": "code",
   "execution_count": null,
   "id": "e1eb7977",
   "metadata": {
    "scrolled": true
   },
   "outputs": [],
   "source": [
    "app2.commit()"
   ]
  },
  {
   "cell_type": "markdown",
   "id": "d93c773d",
   "metadata": {},
   "source": [
    "# Runtime Review"
   ]
  },
  {
   "cell_type": "markdown",
   "id": "62706d7c",
   "metadata": {},
   "source": [
    "## Specific zones and apps only"
   ]
  },
  {
   "cell_type": "code",
   "execution_count": null,
   "id": "8f0f2ef0",
   "metadata": {},
   "outputs": [],
   "source": [
    "api.Runtime.zone2apps = {                                                               \n",
    "    \"dev\": [\"cassandra\"],                                                   \n",
    "    \"ops\": [\"cassandra\"],                                                   \n",
    "    \"prod\": [\"dmzvm\", \"bendvm\"],                                            \n",
    "    \"nightly\": [\"dmzvm\", \"bendvm\"],                                         \n",
    "    \"prod-k8s\": [\"k8s\", \"kube-system\", \"monitoring\", \"prod-araali-operator\", \"prod-bend\"],\n",
    "    \"nightly-k8s\": [\"k8s\", \"kube-system\", \"monitoring\", \"prod-araali-operator\", \"prod-bend\"],\n",
    "}\n",
    "run = api.Runtime()"
   ]
  },
  {
   "cell_type": "code",
   "execution_count": null,
   "id": "6bc4652a",
   "metadata": {},
   "outputs": [],
   "source": [
    "%%time\n",
    "run = run.refresh()"
   ]
  },
  {
   "cell_type": "markdown",
   "id": "ab42a2de",
   "metadata": {},
   "source": [
    "## All Zones and Apps"
   ]
  },
  {
   "cell_type": "code",
   "execution_count": null,
   "id": "8372ebfa",
   "metadata": {},
   "outputs": [],
   "source": [
    "api.Runtime.zone2apps = None\n",
    "run = api.Runtime()"
   ]
  },
  {
   "cell_type": "code",
   "execution_count": null,
   "id": "6672737b",
   "metadata": {},
   "outputs": [],
   "source": [
    "%%time\n",
    "run = run.refresh()"
   ]
  },
  {
   "cell_type": "code",
   "execution_count": null,
   "id": "f5eb8b5f",
   "metadata": {},
   "outputs": [],
   "source": [
    "api.Table(api.Runtime.get_zone_apps(hard=False))"
   ]
  },
  {
   "cell_type": "markdown",
   "id": "13d42123",
   "metadata": {},
   "source": [
    "## Summary Stats"
   ]
  },
  {
   "cell_type": "code",
   "execution_count": null,
   "id": "b820ff35",
   "metadata": {
    "scrolled": true
   },
   "outputs": [],
   "source": [
    "api.Table(run.stats(all=True))"
   ]
  },
  {
   "cell_type": "markdown",
   "id": "ad59df9e",
   "metadata": {},
   "source": [
    "## All the links"
   ]
  },
  {
   "cell_type": "code",
   "execution_count": null,
   "id": "8c2820d9",
   "metadata": {},
   "outputs": [],
   "source": [
    "api.LinkTable(run.iterlinks())"
   ]
  },
  {
   "cell_type": "code",
   "execution_count": null,
   "id": "45ee25b8",
   "metadata": {},
   "outputs": [],
   "source": [
    "for zone in run.iterzones():\n",
    "    for app in zone.iterapps():\n",
    "        for link in app.iterlinks():\n",
    "            print(link)"
   ]
  },
  {
   "cell_type": "markdown",
   "id": "8b9cbff3",
   "metadata": {},
   "source": [
    "## Link Science"
   ]
  },
  {
   "cell_type": "markdown",
   "id": "8ed72194",
   "metadata": {},
   "source": [
    "### Changes ready to commit"
   ]
  },
  {
   "cell_type": "code",
   "execution_count": null,
   "id": "73c2a543",
   "metadata": {},
   "outputs": [],
   "source": [
    "runlinks = list(run.iterlinks())"
   ]
  },
  {
   "cell_type": "markdown",
   "id": "1072e9d4",
   "metadata": {},
   "source": [
    "### Simulate changes iteratively"
   ]
  },
  {
   "cell_type": "code",
   "execution_count": null,
   "id": "62a90a7d",
   "metadata": {},
   "outputs": [],
   "source": [
    "runlinks = copy.deepcopy(list(run.iterlinks()))"
   ]
  },
  {
   "cell_type": "markdown",
   "id": "f67263e3",
   "metadata": {},
   "source": [
    "### Alert Count"
   ]
  },
  {
   "cell_type": "code",
   "execution_count": null,
   "id": "a1387ada",
   "metadata": {},
   "outputs": [],
   "source": [
    "api.Table(run.link_stats(all=False, only_new=True, runlink=runlinks))"
   ]
  },
  {
   "cell_type": "code",
   "execution_count": null,
   "id": "0c5bcb9b",
   "metadata": {
    "scrolled": true
   },
   "outputs": [],
   "source": [
    "api.Table(run.dns_stats(only_new=True, runlink=runlinks))"
   ]
  },
  {
   "cell_type": "code",
   "execution_count": null,
   "id": "02e08b06",
   "metadata": {
    "scrolled": true
   },
   "outputs": [],
   "source": [
    "api.Table(run.server_stats(only_new=True, runlink=runlinks))"
   ]
  },
  {
   "cell_type": "markdown",
   "id": "9573bf9b",
   "metadata": {},
   "source": [
    "# Templates"
   ]
  },
  {
   "cell_type": "markdown",
   "id": "89732242",
   "metadata": {},
   "source": [
    "## Convert a link to template"
   ]
  },
  {
   "cell_type": "code",
   "execution_count": null,
   "id": "91d11983",
   "metadata": {},
   "outputs": [],
   "source": [
    "app = api.App(\"app-nightly\", \"app-nightly-bend\")"
   ]
  },
  {
   "cell_type": "code",
   "execution_count": null,
   "id": "009c68a9",
   "metadata": {},
   "outputs": [],
   "source": [
    "template = app.links[0].template(show=True)"
   ]
  },
  {
   "cell_type": "markdown",
   "id": "0375405f",
   "metadata": {},
   "source": [
    "### Modify Template"
   ]
  },
  {
   "cell_type": "code",
   "execution_count": null,
   "id": "0c678d69",
   "metadata": {},
   "outputs": [],
   "source": [
    "template.modify(changes=[api.TemplateChanges(\"client\", \"netmask\", 0), \n",
    "                         api.TemplateChanges(\"server\", \"zone\", \"\", delete=True),\n",
    "                         api.TemplateChanges(\"server\", \"app\", \"\", delete=True),\n",
    "                         api.TemplateChanges(\"server\", \"binary_name\", \"/usr/bin/python.*\", replace=True)\n",
    "                        ])"
   ]
  },
  {
   "cell_type": "code",
   "execution_count": null,
   "id": "e23d7635",
   "metadata": {},
   "outputs": [],
   "source": [
    "template.show()"
   ]
  },
  {
   "cell_type": "markdown",
   "id": "07bfb80a",
   "metadata": {},
   "source": [
    "### Accept Template"
   ]
  },
  {
   "cell_type": "code",
   "execution_count": null,
   "id": "9fdb47bb",
   "metadata": {},
   "outputs": [],
   "source": [
    "# NOTE: set use=True to start using the templates and idxs to choose which template.\n",
    "template.accept(use=False, idxs=[0])"
   ]
  },
  {
   "cell_type": "markdown",
   "id": "618b717d",
   "metadata": {},
   "source": [
    "### List Templates"
   ]
  },
  {
   "cell_type": "code",
   "execution_count": null,
   "id": "0734b0d3",
   "metadata": {},
   "outputs": [],
   "source": [
    "my_templates = api.Templates()"
   ]
  },
  {
   "cell_type": "code",
   "execution_count": null,
   "id": "4864c08f",
   "metadata": {},
   "outputs": [],
   "source": [
    "my_templates.show()\n",
    "# NOTE: templates change be modified/accepted as well."
   ]
  },
  {
   "cell_type": "markdown",
   "id": "f3ff26fa",
   "metadata": {},
   "source": [
    "### Delete Template"
   ]
  },
  {
   "cell_type": "code",
   "execution_count": null,
   "id": "54492fef",
   "metadata": {},
   "outputs": [],
   "source": [
    "my_templates.delete(idxs=[8])"
   ]
  },
  {
   "cell_type": "markdown",
   "id": "d9448f1d",
   "metadata": {},
   "source": [
    "# Meta Policies and Suggestions"
   ]
  },
  {
   "cell_type": "code",
   "execution_count": null,
   "id": "90b0b087",
   "metadata": {
    "scrolled": true
   },
   "outputs": [],
   "source": [
    "api.LinkTable(\n",
    "    api.mpr.run(\n",
    "        api.LinkTable(runlinks,\n",
    "                      api.f.neg(api.f.state(\"DEFINED_POLICY\")),\n",
    "                     ).links, show_all=False,\n",
    "    ).review(todo=False)\n",
    ")"
   ]
  },
  {
   "cell_type": "markdown",
   "id": "f3fa4c2a",
   "metadata": {},
   "source": [
    "## Pending Ones"
   ]
  },
  {
   "cell_type": "code",
   "execution_count": null,
   "id": "da8da666",
   "metadata": {
    "scrolled": true
   },
   "outputs": [],
   "source": [
    "api.LinkTable(runlinks,\n",
    "              api.f.new_state(None),\n",
    "              #lambda x: x.get(\"meta_policy\", None) is not None,\n",
    "              #api.f.state(\"BASELINE_ALERT\"),\n",
    "              #api.f.endpoint(\"subnet\", [\"169.254.169.254\", \"127.0.0.1\"], who=\"server\"),\n",
    "              #api.f.endpoint(\"process\", \"dockerd\", who=\"client\"),\n",
    "              #api.f.endpoint(\"dns_pattern\", \"googleapis.com\"),\n",
    "              #api.f.endpoint(\"zone\", \"nightly-k8s\"), api.f.endpoint(\"app\", \"^monitoring\\.\"),\n",
    "              #api.f.any(api.f.same_zone, api.f.type([\"NAI\", \"NAE\"])),\n",
    "              #api.f.neg(api.f.endpoint(\"process\", \"grafana-server\", who=\"client\")),\n",
    "              #api.f.neg(api.f.same_zone), api.f.type([\"AEG\", \"AIN\"]),\n",
    "              #api.f.same_zone, api.f.type([\"AEG\", \"AIN\"]),\n",
    "              #api.f.neg(api.f.type([\"AEG\", \"AIN\"]), api.f.same_zone),\n",
    "              api.f.type(\"NAE\"), #api.f.same_zone,\n",
    "              #api.f.perimeter, #api.f.endpoint(\"process\", [\"sshd\"])\n",
    "              #api.f.neg(api.f.perimeter),\n",
    "              #api.f.neg(api.f.server_non_ip),\n",
    "              #api.f.server_non_ip,\n",
    "              #api.f.inactive_open_ports\n",
    "             )"
   ]
  },
  {
   "cell_type": "code",
   "execution_count": null,
   "id": "2beaf42d",
   "metadata": {},
   "outputs": [],
   "source": [
    "_.dump(0)"
   ]
  },
  {
   "cell_type": "code",
   "execution_count": null,
   "id": "f279242f",
   "metadata": {},
   "outputs": [],
   "source": [
    "_.meta_policy()"
   ]
  },
  {
   "cell_type": "code",
   "execution_count": null,
   "id": "61380f0e",
   "metadata": {},
   "outputs": [],
   "source": [
    "_.snooze()"
   ]
  },
  {
   "cell_type": "code",
   "execution_count": null,
   "id": "954c44e9",
   "metadata": {},
   "outputs": [],
   "source": [
    "_.accept()"
   ]
  },
  {
   "cell_type": "code",
   "execution_count": null,
   "id": "9b978d85",
   "metadata": {},
   "outputs": [],
   "source": [
    "_.deny()"
   ]
  },
  {
   "cell_type": "code",
   "execution_count": null,
   "id": "58fbce22",
   "metadata": {},
   "outputs": [],
   "source": [
    "api.Table(api.za_stats(_.links, only_new=False))"
   ]
  },
  {
   "cell_type": "code",
   "execution_count": null,
   "id": "2739dd57",
   "metadata": {},
   "outputs": [],
   "source": [
    "api.Table(_.dns_stats(only_new=True))"
   ]
  },
  {
   "cell_type": "code",
   "execution_count": null,
   "id": "4988b669",
   "metadata": {},
   "outputs": [],
   "source": [
    "api.LinkTable(run.review())"
   ]
  },
  {
   "cell_type": "code",
   "execution_count": null,
   "id": "70f55b41",
   "metadata": {
    "scrolled": true
   },
   "outputs": [],
   "source": [
    "%%time\n",
    "api.Table(run.commit())"
   ]
  },
  {
   "cell_type": "markdown",
   "id": "5dce2622",
   "metadata": {},
   "source": [
    "## Trying a new Meta Policy"
   ]
  },
  {
   "cell_type": "code",
   "execution_count": null,
   "id": "b789f38c",
   "metadata": {},
   "outputs": [],
   "source": [
    "class MpTest:\n",
    "    policies = [\n",
    "        api.AcceptLink(filters=[                                                \n",
    "                api.f.type(\"NAE\"),\n",
    "                api.f.endpoint(\"process\", \"dockerd\", who=\"client\"),             \n",
    "                api.f.endpoint(\"dns_pattern\", [\":.*.docker.io:\"], who=\"server\"),\n",
    "            ], changes=[                                                        \n",
    "                (\"server\", \"dns_pattern\", \":.*\\.docker\\.io:\"),                  \n",
    "            ]),\n",
    "    ]"
   ]
  },
  {
   "cell_type": "code",
   "execution_count": null,
   "id": "27a539c3",
   "metadata": {},
   "outputs": [],
   "source": [
    "api.LinkTable(api.MetaPolicyRunner(MpTest).run(runlinks).review(MpTest))"
   ]
  },
  {
   "cell_type": "markdown",
   "id": "7ec4cd98",
   "metadata": {},
   "source": [
    "# Documentation"
   ]
  },
  {
   "cell_type": "markdown",
   "id": "3d902592",
   "metadata": {},
   "source": [
    "## Meta-Policy HowTo"
   ]
  },
  {
   "cell_type": "markdown",
   "id": "951874c2",
   "metadata": {},
   "source": [
    "Meta policy are policies that are in turn used to accept policies (with or without changes and transformations). Araali policies are least permissive and precise, but they can be auto-accepted using patterns encoded into these meta policies. While accepting the policy, the endpoint parameters can be changed/rewritten (for client or server params in the policy).\n",
    "\n",
    "Using the info displayed for a link in Alert state, create a meta policy using the following guidelines depending on the link type:\n",
    " * NAE\n",
    "   * First find out if the process is already in some other meta-policy block you may have defined\n",
    "     * It might be simple enough to add another dns into an existing meta policy (first example).\n",
    "     * If there is change to the default suggested policy, you should not use a list for dns_pattern, and instead have one block per dns_pattern that is rewritten\n",
    "       * In the first example below, if you put \\*.pythonhosted.\\*, it will end up using that even for links that match pypi.org\n",
    "       * Instead use the separate block as shown in the second example\n",
    "   * Else define a new block.\n",
    "     * Typically you would want to have client app, process, and dns_pattern (to keep things zone independent) in the link filters.\n",
    "<pre>        \n",
    "    AcceptLink(filters=[                                                    \n",
    "            f.type(\"NAE\"),\n",
    "            f.endpoint(\"app\", \"cassandra\"),                                 \n",
    "            f.endpoint(\"process\", \"/usr/bin/pip3\", who=\"client\"),           \n",
    "            f.endpoint(\"dns_pattern\", [\":pypi.python.org:\",                 \n",
    "                                       \":pypi.org:\",                        \n",
    "                                       \":files.pythonhosted.org:\"], who=\"server\"),\n",
    "        ], changes=[                                                        \n",
    "        ]),\n",
    "    AcceptLink(filters=[                                                    \n",
    "            f.endpoint(\"process\", [\"/usr/bin/yum\", \"amazon_linux_extras\"], who=\"client\"),\n",
    "            f.endpoint(\"dns_pattern\", \":amazonlinux.us-west-2.amazonaws.com:\", who=\"server\"),\n",
    "        ], changes=[                                                        \n",
    "            (\"server\", \"dns_pattern\", \":amazonlinux\\..*\\.amazonaws\\.com:\"), \n",
    "        ]),\n",
    "</pre>            \n",
    "  * NAI\n",
    "    * see if the service really needs public internet exposure. These are easy to spot with the pre-defined perimeter filter.\n",
    "    * Define a block with f.perimeter filter and the process and app that needs perimeter exposure\n",
    "    * Araali by default exposes these to the world, but you can restrict/change it to a subnet instead.\n",
    "<pre>        \n",
    "    AcceptLink(filters=[                                                    \n",
    "            f.perimeter,                                                    \n",
    "            f.endpoint(\"zone\", [\"prod\", \"nightly\", \"dev\", \"ops\", \"nightly-k8s\"], who=\"server\"),\n",
    "            f.endpoint(\"app\", [\"dmzvm\", \"cassandra\", \"k8s\"], who=\"server\", flags=re.IGNORECASE), \n",
    "            f.endpoint(\"process\", [\"sshd\", \"haproxy\"], who=\"server\", flags=re.IGNORECASE),\n",
    "        ], changes=[\n",
    "            (\"client\", \"network\", \"192.168.0.0\"),\n",
    "            (\"client\", \"mask\", 16),\n",
    "        ]),\n",
    "</pre>            \n",
    "            \n",
    "  * INT\n",
    "    * There is no need to specify zone, because internal implies it by default\n",
    "<pre>\n",
    "    AcceptLink(filters=[                                                    \n",
    "        f.type(\"INT\"),\n",
    "        f.endpoint(\"app\", \"monitoring.grafana.grafana\"),          \n",
    "        f.endpoint(\"process\", \"grafana-server\", who=\"client\"),          \n",
    "        f.endpoint(\"process\", \"prometheus\", who=\"server\"),              \n",
    "    ], changes=[                                                        \n",
    "    ]),\n",
    "</pre>            \n",
    "  * AIN\n",
    "    * These can be ommitted\n",
    "      * Covering AEG automatically covers this category.\n",
    "  * AEG\n",
    "    * If both client and server should be in the same zone, use a same_zone filter, else both client and server zones can be explicitly specified (cross zone case). The example below uses same_zone.\n",
    "<pre>\n",
    "    AcceptLink(filters=[                                                    \n",
    "            f.same_zone,                                                    \n",
    "            f.type(\"AEG\"),\n",
    "            f.endpoint(\"app\", \"dmzvm\", who=\"client\"),                       \n",
    "            f.endpoint(\"process\", \"/var/lib/haproxy/healthcheck.py\", who=\"client\"),\n",
    "            f.endpoint(\"app\", \"bendvm.bend.backend\", who=\"server\"),         \n",
    "            f.endpoint(\"process\", \"prometheus\", who=\"server\"),              \n",
    "        ], changes=[                                                        \n",
    "        ]),\n",
    "</pre>            "
   ]
  },
  {
   "cell_type": "markdown",
   "id": "dbe5458e",
   "metadata": {},
   "source": [
    "# Installing Python Packages into Notebook"
   ]
  },
  {
   "cell_type": "code",
   "execution_count": null,
   "id": "016d4659",
   "metadata": {},
   "outputs": [],
   "source": [
    "# This is needed only one time, to make sure all dependent packages are installed\n",
    "import sys\n",
    "!{sys.executable} -m pip install requests\n",
    "!{sys.executable} -m pip install pyyaml\n",
    "!{sys.executable} -m pip install oyaml\n",
    "!{sys.executable} -m pip install pandas"
   ]
  },
  {
   "cell_type": "code",
   "execution_count": null,
   "id": "59c2f791",
   "metadata": {},
   "outputs": [],
   "source": []
  }
 ],
 "metadata": {
  "kernelspec": {
   "display_name": "Python 3",
   "language": "python",
   "name": "python3"
  },
  "language_info": {
   "codemirror_mode": {
    "name": "ipython",
    "version": 3
   },
   "file_extension": ".py",
   "mimetype": "text/x-python",
   "name": "python",
   "nbconvert_exporter": "python",
   "pygments_lexer": "ipython3",
   "version": "3.9.1"
  }
 },
 "nbformat": 4,
 "nbformat_minor": 5
}