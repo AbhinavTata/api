{
 "cells": [
  {
   "cell_type": "markdown",
   "id": "familiar-grenada",
   "metadata": {},
   "source": [
    "# Installing python packages into Notebook"
   ]
  },
  {
   "cell_type": "code",
   "execution_count": null,
   "id": "quiet-blogger",
   "metadata": {},
   "outputs": [],
   "source": [
    "import sys\n",
    "!{sys.executable} -m pip install requests\n",
    "!{sys.executable} -m pip install pyyaml\n",
    "!{sys.executable} -m pip install oyaml\n",
    "!{sys.executable} -m pip install pandas"
   ]
  },
  {
   "cell_type": "code",
   "execution_count": null,
   "id": "derived-speed",
   "metadata": {},
   "outputs": [],
   "source": [
    "import api"
   ]
  },
  {
   "cell_type": "code",
   "execution_count": null,
   "id": "specified-render",
   "metadata": {},
   "outputs": [],
   "source": [
    "import imp\n",
    "imp.reload(api)"
   ]
  },
  {
   "cell_type": "markdown",
   "id": "moving-correction",
   "metadata": {},
   "source": [
    "# Speciific App"
   ]
  },
  {
   "cell_type": "code",
   "execution_count": null,
   "id": "protective-screw",
   "metadata": {},
   "outputs": [],
   "source": [
    "app = api.App(\"prod\", \"dmzvm\")"
   ]
  },
  {
   "cell_type": "code",
   "execution_count": null,
   "id": "regular-auckland",
   "metadata": {},
   "outputs": [],
   "source": [
    "api.LinkTable(app.iterlinks(), api.f.endpoint(\"zone\", \"prod\"))"
   ]
  },
  {
   "cell_type": "markdown",
   "id": "romance-dialogue",
   "metadata": {},
   "source": [
    "# Runtime Review"
   ]
  },
  {
   "cell_type": "code",
   "execution_count": null,
   "id": "grand-creativity",
   "metadata": {},
   "outputs": [],
   "source": [
    "run = api.Runtime()"
   ]
  },
  {
   "cell_type": "code",
   "execution_count": null,
   "id": "greenhouse-source",
   "metadata": {},
   "outputs": [],
   "source": [
    "api.Runtime.zones"
   ]
  },
  {
   "cell_type": "markdown",
   "id": "coral-cliff",
   "metadata": {},
   "source": [
    "## Load up data"
   ]
  },
  {
   "cell_type": "code",
   "execution_count": null,
   "id": "trained-modern",
   "metadata": {},
   "outputs": [],
   "source": [
    "%%time\n",
    "run = run.refresh()"
   ]
  },
  {
   "cell_type": "markdown",
   "id": "english-variance",
   "metadata": {},
   "source": [
    "## Summary Stats"
   ]
  },
  {
   "cell_type": "code",
   "execution_count": null,
   "id": "narrative-strip",
   "metadata": {
    "scrolled": true
   },
   "outputs": [],
   "source": [
    "api.Table(run.stats())"
   ]
  },
  {
   "cell_type": "markdown",
   "id": "illegal-palmer",
   "metadata": {},
   "source": [
    "### Alert Count"
   ]
  },
  {
   "cell_type": "code",
   "execution_count": null,
   "id": "recovered-consent",
   "metadata": {},
   "outputs": [],
   "source": [
    "sum([a[\"Num Links\"] for a in run.stats()])"
   ]
  },
  {
   "cell_type": "markdown",
   "id": "decreased-billy",
   "metadata": {},
   "source": [
    "## All the links"
   ]
  },
  {
   "cell_type": "code",
   "execution_count": null,
   "id": "going-booth",
   "metadata": {},
   "outputs": [],
   "source": [
    "api.LinkTable(run.iterlinks())"
   ]
  },
  {
   "cell_type": "code",
   "execution_count": null,
   "id": "mental-malta",
   "metadata": {},
   "outputs": [],
   "source": [
    "for zone in run.iterzones():\n",
    "    for app in zone.iterapps():\n",
    "        for link in app.iterlinks():\n",
    "            print(link)"
   ]
  },
  {
   "cell_type": "markdown",
   "id": "raised-surgery",
   "metadata": {},
   "source": [
    "# Meta Policies and Suggestions"
   ]
  },
  {
   "cell_type": "code",
   "execution_count": null,
   "id": "variable-atlantic",
   "metadata": {},
   "outputs": [],
   "source": [
    "api.mpr.run(run.iterlinks()).review()"
   ]
  },
  {
   "cell_type": "markdown",
   "id": "pleased-journalist",
   "metadata": {},
   "source": [
    "## Pending Ones"
   ]
  },
  {
   "cell_type": "code",
   "execution_count": null,
   "id": "fitted-satellite",
   "metadata": {
    "scrolled": true
   },
   "outputs": [],
   "source": [
    "api.LinkTable(run.iterlinks(),\n",
    "              api.f.nstate(None),\n",
    "              #api.f.endpoint(\"zone\", \"nightly-k8s\"), api.f.endpoint(\"app\", \"^monitoring\\.\"),\n",
    "              #api.f.any(api.f.same_zone, api.f.ltype([\"NAI\", \"NAE\"])),\n",
    "              #api.f.neg(api.f.endpoint(\"process\", \"grafana-server\", who=\"client\")),\n",
    "              #api.f.neg(api.f.same_zone), api.f.ltype([\"AEG\", \"AIN\"]),\n",
    "              #api.f.same_zone, api.f.ltype([\"AEG\", \"AIN\"]),\n",
    "              #api.f.neg(api.f.ltype([\"AEG\", \"AIN\"]), api.f.same_zone),\n",
    "              #api.f.perimeter,\n",
    "              #api.f.neg(api.f.perimeter),\n",
    "              #api.f.neg(api.f.server_non_ip),\n",
    "              #api.f.server_non_ip\n",
    "             )"
   ]
  },
  {
   "cell_type": "markdown",
   "id": "little-individual",
   "metadata": {},
   "source": [
    "## Trying a new Meta Policy"
   ]
  },
  {
   "cell_type": "code",
   "execution_count": null,
   "id": "acute-catch",
   "metadata": {},
   "outputs": [],
   "source": [
    "class MpTest:                                                                                                                                  \n",
    "    policies = [                                                                \n",
    "        api.AcceptLink(filters=[                                                    \n",
    "                api.f.endpoint(\"app\", \"bendvm.bend.backend\", who=\"client\"),               \n",
    "                api.f.endpoint(\"process\", \"rsn/araali_backend.py\", who=\"client\"),              \n",
    "                api.f.endpoint(\"app\", \"cassandra\", who=\"server\"),               \n",
    "                api.f.endpoint(\"process\", \"org.apache.cassandra.service.CassandraDaemon\", who=\"server\"),              \n",
    "            ], changes=[                                                        \n",
    "            ]),                                                                                                                                \n",
    "    ]    "
   ]
  },
  {
   "cell_type": "code",
   "execution_count": null,
   "id": "adaptive-spare",
   "metadata": {},
   "outputs": [],
   "source": [
    "api.MetaPolicyRunner(MpTest).run(run.iterlinks()).review(MpTest)"
   ]
  },
  {
   "cell_type": "markdown",
   "id": "judicial-musical",
   "metadata": {},
   "source": [
    "## Analyzing Greened Ones"
   ]
  },
  {
   "cell_type": "code",
   "execution_count": null,
   "id": "measured-gothic",
   "metadata": {},
   "outputs": [],
   "source": [
    "api.LinkTable(run.iterlinks(),\n",
    "              api.f.neg(api.f.nstate(None)),\n",
    "              api.f.ltype(\"NAE\"),\n",
    "             )"
   ]
  },
  {
   "cell_type": "markdown",
   "id": "interpreted-valve",
   "metadata": {},
   "source": [
    "# Relocation Example"
   ]
  },
  {
   "cell_type": "code",
   "execution_count": null,
   "id": "herbal-keeping",
   "metadata": {},
   "outputs": [],
   "source": [
    "api.LinkTable(run.iterzones(\"nightly\").iterapps(\"bendvm\").relocate(\"prod\", \"bendvm\").iterlinks())"
   ]
  },
  {
   "cell_type": "code",
   "execution_count": null,
   "id": "middle-branch",
   "metadata": {},
   "outputs": [],
   "source": [
    "api.LinkTable(run.iterzones(\"nightly\").iterapps(\"bendvm\").to_lib().iterlinks())"
   ]
  },
  {
   "cell_type": "markdown",
   "id": "changing-impact",
   "metadata": {},
   "source": [
    "# Documentation"
   ]
  },
  {
   "cell_type": "markdown",
   "id": "endless-morocco",
   "metadata": {},
   "source": [
    "## Meta-Policy HowTo"
   ]
  },
  {
   "cell_type": "markdown",
   "id": "restricted-retrieval",
   "metadata": {},
   "source": [
    "Meta policy are policies that are in turn used to accept policies (with or without changes and transformations). Araali policies are least permissive and precise, but they can be auto-accepted using patterns encoded into these meta policies. While accepting the policy, the endpoint parameters can be changed/rewritten (for client or server params in the policy).\n",
    "\n",
    "Using the info displayed for a link in Alert state, create a meta policy using the following guidelines depending on the link type:\n",
    " * NAE\n",
    "   * First find out if the process is already in some other meta-policy block you may have defined\n",
    "     * It might be simple enough to add another dns into an existing meta policy (first example).\n",
    "     * If there is change to the default suggested policy, you should not use a list for dns_pattern, and instead have one block per dns_pattern that is rewritten\n",
    "       * In the first example below, if you put \\*.pythonhosted.\\*, it will end up using that even for links that match pypi.org\n",
    "       * Instead use the separate block as shown in the second example\n",
    "   * Else define a new block.\n",
    "     * Typically you would want to have client app, process, and dns_pattern (to keep things zone independent) in the link filters.\n",
    "<pre>        \n",
    "    AcceptLink(filters=[                                                    \n",
    "            f.ltype(\"NAE\"),                                                 \n",
    "            f.endpoint(\"app\", \"cassandra\"),                                 \n",
    "            f.endpoint(\"process\", \"/usr/bin/pip3\", who=\"client\"),           \n",
    "            f.endpoint(\"dns_pattern\", [\":pypi.python.org:\",                 \n",
    "                                       \":pypi.org:\",                        \n",
    "                                       \":files.pythonhosted.org:\"], who=\"server\"),\n",
    "        ], changes=[                                                        \n",
    "        ]),\n",
    "    AcceptLink(filters=[                                                    \n",
    "            f.endpoint(\"process\", [\"/usr/bin/yum\", \"amazon_linux_extras\"], who=\"client\"),\n",
    "            f.endpoint(\"dns_pattern\", \":amazonlinux.us-west-2.amazonaws.com:\", who=\"server\"),\n",
    "        ], changes=[                                                        \n",
    "            (\"server\", \"dns_pattern\", \":amazonlinux\\..*\\.amazonaws\\.com:\"), \n",
    "        ]),\n",
    "</pre>            \n",
    "  * NAI\n",
    "    * see if the service really needs public internet exposure. These are easy to spot with the pre-defined perimeter filter.\n",
    "    * Define a block with f.perimeter filter and the process and app that needs perimeter exposure\n",
    "    * Araali by default exposes these to the world, but you can restrict/change it to a subnet instead.\n",
    "<pre>        \n",
    "    AcceptLink(filters=[                                                    \n",
    "            f.perimeter,                                                    \n",
    "            f.endpoint(\"zone\", [\"prod\", \"nightly\", \"dev\", \"ops\", \"nightly-k8s\"], who=\"server\"),\n",
    "            f.endpoint(\"app\", [\"dmzvm\", \"cassandra\", \"k8s\"], who=\"server\", flags=re.IGNORECASE), \n",
    "            f.endpoint(\"process\", [\"sshd\", \"haproxy\"], who=\"server\", flags=re.IGNORECASE),\n",
    "        ], changes=[\n",
    "            (\"client\", \"network\", \"192.168.0.0\"),\n",
    "            (\"client\", \"mask\", 16),\n",
    "        ]),\n",
    "</pre>            \n",
    "            \n",
    "  * INT\n",
    "    * There is no need to specify zone, because internal implies it by default\n",
    "<pre>\n",
    "    AcceptLink(filters=[                                                    \n",
    "        f.ltype(\"INT\"),                                                 \n",
    "        f.endpoint(\"app\", \"monitoring.grafana.grafana\"),          \n",
    "        f.endpoint(\"process\", \"grafana-server\", who=\"client\"),          \n",
    "        f.endpoint(\"process\", \"prometheus\", who=\"server\"),              \n",
    "    ], changes=[                                                        \n",
    "    ]),\n",
    "</pre>            \n",
    "  * AIN\n",
    "    * These can be ommitted\n",
    "      * Covering AEG automatically covers this category.\n",
    "  * AEG\n",
    "    * If both client and server should be in the same zone, use a same_zone filter, else both client and server zones can be explicitly specified (cross zone case). The example below uses same_zone.\n",
    "<pre>\n",
    "    AcceptLink(filters=[                                                    \n",
    "            f.same_zone,                                                    \n",
    "            f.ltype(\"AEG\"),                                                 \n",
    "            f.endpoint(\"app\", \"dmzvm\", who=\"client\"),                       \n",
    "            f.endpoint(\"process\", \"/var/lib/haproxy/healthcheck.py\", who=\"client\"),\n",
    "            f.endpoint(\"app\", \"bendvm.bend.backend\", who=\"server\"),         \n",
    "            f.endpoint(\"process\", \"prometheus\", who=\"server\"),              \n",
    "        ], changes=[                                                        \n",
    "        ]),\n",
    "</pre>            "
   ]
  },
  {
   "cell_type": "code",
   "execution_count": null,
   "id": "precious-trailer",
   "metadata": {},
   "outputs": [],
   "source": []
  }
 ],
 "metadata": {
  "kernelspec": {
   "display_name": "Python 3",
   "language": "python",
   "name": "python3"
  },
  "language_info": {
   "codemirror_mode": {
    "name": "ipython",
    "version": 3
   },
   "file_extension": ".py",
   "mimetype": "text/x-python",
   "name": "python",
   "nbconvert_exporter": "python",
   "pygments_lexer": "ipython3",
   "version": "3.9.0"
  }
 },
 "nbformat": 4,
 "nbformat_minor": 5
}
