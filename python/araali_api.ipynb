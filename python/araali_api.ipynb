{
 "cells": [
  {
   "cell_type": "code",
   "execution_count": null,
   "id": "exceptional-sellers",
   "metadata": {},
   "outputs": [],
   "source": [
    "import sys\n",
    "!{sys.executable} -m pip install requests\n",
    "!{sys.executable} -m pip install pyyaml\n",
    "!{sys.executable} -m pip install oyaml"
   ]
  },
  {
   "cell_type": "code",
   "execution_count": null,
   "id": "encouraging-spring",
   "metadata": {},
   "outputs": [],
   "source": [
    "import araalictl"
   ]
  },
  {
   "cell_type": "code",
   "execution_count": null,
   "id": "latter-package",
   "metadata": {},
   "outputs": [],
   "source": [
    "import api"
   ]
  },
  {
   "cell_type": "code",
   "execution_count": null,
   "id": "cardiovascular-obligation",
   "metadata": {},
   "outputs": [],
   "source": [
    "import imp\n",
    "imp.reload(api)"
   ]
  },
  {
   "cell_type": "code",
   "execution_count": null,
   "id": "formal-satisfaction",
   "metadata": {},
   "outputs": [],
   "source": [
    "#run = api.Runtime()"
   ]
  },
  {
   "cell_type": "code",
   "execution_count": null,
   "id": "experimental-arcade",
   "metadata": {
    "scrolled": true
   },
   "outputs": [],
   "source": [
    "%%time\n",
    "zone, app = \"prod\", \"bendvm\"\n",
    "araalictl.get_links(zone, app)"
   ]
  },
  {
   "cell_type": "code",
   "execution_count": null,
   "id": "fifteen-release",
   "metadata": {},
   "outputs": [],
   "source": [
    "links = _"
   ]
  },
  {
   "cell_type": "code",
   "execution_count": null,
   "id": "stunning-landing",
   "metadata": {},
   "outputs": [],
   "source": [
    "[api.Link(b, zone, app) for b in links]"
   ]
  },
  {
   "cell_type": "code",
   "execution_count": null,
   "id": "median-window",
   "metadata": {},
   "outputs": [],
   "source": []
  }
 ],
 "metadata": {
  "kernelspec": {
   "display_name": "Python 3",
   "language": "python",
   "name": "python3"
  },
  "language_info": {
   "codemirror_mode": {
    "name": "ipython",
    "version": 3
   },
   "file_extension": ".py",
   "mimetype": "text/x-python",
   "name": "python",
   "nbconvert_exporter": "python",
   "pygments_lexer": "ipython3",
   "version": "3.9.0"
  }
 },
 "nbformat": 4,
 "nbformat_minor": 5
}
