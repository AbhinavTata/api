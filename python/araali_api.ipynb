{
 "cells": [
  {
   "cell_type": "markdown",
   "id": "addressed-christian",
   "metadata": {},
   "source": [
    "# Installing python packages into Notebook"
   ]
  },
  {
   "cell_type": "code",
   "execution_count": null,
   "id": "informed-portsmouth",
   "metadata": {},
   "outputs": [],
   "source": [
    "import sys\n",
    "!{sys.executable} -m pip install requests\n",
    "!{sys.executable} -m pip install pyyaml\n",
    "!{sys.executable} -m pip install oyaml\n",
    "!{sys.executable} -m pip install pandas"
   ]
  },
  {
   "cell_type": "code",
   "execution_count": null,
   "id": "supposed-battery",
   "metadata": {},
   "outputs": [],
   "source": [
    "import api"
   ]
  },
  {
   "cell_type": "code",
   "execution_count": null,
   "id": "casual-swaziland",
   "metadata": {},
   "outputs": [],
   "source": [
    "import imp\n",
    "imp.reload(api)"
   ]
  },
  {
   "cell_type": "markdown",
   "id": "oriented-society",
   "metadata": {},
   "source": [
    "# Speciific App"
   ]
  },
  {
   "cell_type": "code",
   "execution_count": null,
   "id": "broad-luther",
   "metadata": {},
   "outputs": [],
   "source": [
    "app = api.App(\"prod\", \"dmzvm\")"
   ]
  },
  {
   "cell_type": "code",
   "execution_count": null,
   "id": "failing-accessory",
   "metadata": {},
   "outputs": [],
   "source": [
    "api.LinkTable(app.iterlinks(), api.f.endpoint(\"zone\", \"prod\"))"
   ]
  },
  {
   "cell_type": "markdown",
   "id": "chinese-donna",
   "metadata": {},
   "source": [
    "# Runtime Review"
   ]
  },
  {
   "cell_type": "code",
   "execution_count": null,
   "id": "acute-sector",
   "metadata": {},
   "outputs": [],
   "source": [
    "run = api.Runtime()"
   ]
  },
  {
   "cell_type": "code",
   "execution_count": null,
   "id": "retired-utility",
   "metadata": {},
   "outputs": [],
   "source": [
    "api.Runtime.zones"
   ]
  },
  {
   "cell_type": "markdown",
   "id": "western-canyon",
   "metadata": {},
   "source": [
    "## Load up data"
   ]
  },
  {
   "cell_type": "code",
   "execution_count": null,
   "id": "tired-token",
   "metadata": {},
   "outputs": [],
   "source": [
    "%%time\n",
    "run = run.refresh()"
   ]
  },
  {
   "cell_type": "markdown",
   "id": "going-mattress",
   "metadata": {},
   "source": [
    "## Summary Stats"
   ]
  },
  {
   "cell_type": "code",
   "execution_count": null,
   "id": "powerful-diana",
   "metadata": {
    "scrolled": true
   },
   "outputs": [],
   "source": [
    "api.Table(run.stats())"
   ]
  },
  {
   "cell_type": "markdown",
   "id": "rising-patch",
   "metadata": {},
   "source": [
    "### Alert Count"
   ]
  },
  {
   "cell_type": "code",
   "execution_count": null,
   "id": "spoken-assurance",
   "metadata": {},
   "outputs": [],
   "source": [
    "sum([a[\"Num Links\"] for a in run.stats()])"
   ]
  },
  {
   "cell_type": "markdown",
   "id": "roman-bridge",
   "metadata": {},
   "source": [
    "## All the links"
   ]
  },
  {
   "cell_type": "code",
   "execution_count": null,
   "id": "forbidden-police",
   "metadata": {},
   "outputs": [],
   "source": [
    "api.LinkTable(run.iterlinks())"
   ]
  },
  {
   "cell_type": "code",
   "execution_count": null,
   "id": "environmental-parts",
   "metadata": {},
   "outputs": [],
   "source": [
    "for zone in run.iterzones():\n",
    "    for app in zone.iterapps():\n",
    "        for link in app.iterlinks():\n",
    "            print(link)"
   ]
  },
  {
   "cell_type": "markdown",
   "id": "later-shopping",
   "metadata": {},
   "source": [
    "# Meta Policies and Suggestions"
   ]
  },
  {
   "cell_type": "code",
   "execution_count": null,
   "id": "present-negative",
   "metadata": {},
   "outputs": [],
   "source": [
    "api.mpr.run(run.iterlinks()).review()"
   ]
  },
  {
   "cell_type": "markdown",
   "id": "forty-fight",
   "metadata": {},
   "source": [
    "## Pending Ones"
   ]
  },
  {
   "cell_type": "code",
   "execution_count": null,
   "id": "legislative-result",
   "metadata": {
    "scrolled": true
   },
   "outputs": [],
   "source": [
    "api.LinkTable(run.iterlinks(),\n",
    "              api.f.nstate(None),\n",
    "              #api.f.endpoint(\"zone\", \"nightly-k8s\"), api.f.endpoint(\"app\", \"^monitoring\\.\"),\n",
    "              #api.f.any(api.f.same_zone, api.f.ltype([\"NAI\", \"NAE\"])),\n",
    "              #api.f.neg(api.f.endpoint(\"process\", \"grafana-server\", who=\"client\")),\n",
    "              #api.f.neg(api.f.same_zone), api.f.ltype([\"AEG\", \"AIN\"]),\n",
    "              #api.f.same_zone, api.f.ltype([\"AEG\", \"AIN\"]),\n",
    "              #api.f.neg(api.f.ltype([\"AEG\", \"AIN\"]), api.f.same_zone),\n",
    "              #api.f.perimeter,\n",
    "              api.f.neg(api.f.perimeter),\n",
    "              #api.f.neg(api.f.server_non_ip),\n",
    "              api.f.server_non_ip\n",
    "             )"
   ]
  },
  {
   "cell_type": "markdown",
   "id": "sweet-philadelphia",
   "metadata": {},
   "source": [
    "## Trying a new Meta Policy"
   ]
  },
  {
   "cell_type": "code",
   "execution_count": null,
   "id": "persistent-event",
   "metadata": {},
   "outputs": [],
   "source": [
    "class MpTest:                                                                                                                                  \n",
    "    policies = [                                                                \n",
    "        api.AcceptLink(filters=[                                                    \n",
    "                api.f.endpoint(\"app\", \"^monitoring\\.\"),               \n",
    "                api.f.ltype(\"NAE\"),                                                 \n",
    "                api.f.endpoint(\"process\", \"grafana-server\", who=\"client\"),              \n",
    "                api.f.endpoint(\"dns_pattern\", [\":stats.grafana.org:\", \n",
    "                                               \":secure.gravatar.com:\",\n",
    "                                              ], who=\"server\"),\n",
    "            ], changes=[                                                        \n",
    "            ]),                                                                                                                                \n",
    "    ]    "
   ]
  },
  {
   "cell_type": "code",
   "execution_count": null,
   "id": "antique-promotion",
   "metadata": {},
   "outputs": [],
   "source": [
    "api.MetaPolicyRunner(MpTest).run(run.iterlinks()).review(MpTest)"
   ]
  },
  {
   "cell_type": "markdown",
   "id": "north-architecture",
   "metadata": {},
   "source": [
    "# Relocation Example"
   ]
  },
  {
   "cell_type": "code",
   "execution_count": null,
   "id": "sustained-station",
   "metadata": {},
   "outputs": [],
   "source": [
    "api.LinkTable(run.iterzones(\"nightly\").iterapps(\"bendvm\").relocate(\"prod\", \"bendvm\").iterlinks())"
   ]
  },
  {
   "cell_type": "code",
   "execution_count": null,
   "id": "atlantic-screening",
   "metadata": {},
   "outputs": [],
   "source": [
    "api.LinkTable(run.iterzones(\"nightly\").iterapps(\"bendvm\").to_lib().iterlinks())"
   ]
  },
  {
   "cell_type": "code",
   "execution_count": null,
   "id": "aware-fighter",
   "metadata": {},
   "outputs": [],
   "source": []
  }
 ],
 "metadata": {
  "kernelspec": {
   "display_name": "Python 3",
   "language": "python",
   "name": "python3"
  },
  "language_info": {
   "codemirror_mode": {
    "name": "ipython",
    "version": 3
   },
   "file_extension": ".py",
   "mimetype": "text/x-python",
   "name": "python",
   "nbconvert_exporter": "python",
   "pygments_lexer": "ipython3",
   "version": "3.9.0"
  }
 },
 "nbformat": 4,
 "nbformat_minor": 5
}
