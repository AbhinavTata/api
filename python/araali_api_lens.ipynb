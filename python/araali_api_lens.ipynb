{
 "cells": [
  {
   "cell_type": "markdown",
   "id": "historical-intent",
   "metadata": {},
   "source": [
    "<h1 id=\"tocheading\">Table of Contents</h1>\n",
    "<div id=\"toc\"></div>"
   ]
  },
  {
   "cell_type": "code",
   "execution_count": 62,
   "id": "military-series",
   "metadata": {},
   "outputs": [
    {
     "data": {
      "application/javascript": [
       "$.getScript('https://kmahelona.github.io/ipython_notebook_goodies/ipython_notebook_toc.js')\n"
      ],
      "text/plain": [
       "<IPython.core.display.Javascript object>"
      ]
     },
     "metadata": {},
     "output_type": "display_data"
    }
   ],
   "source": [
    "%%javascript\n",
    "$.getScript('https://kmahelona.github.io/ipython_notebook_goodies/ipython_notebook_toc.js')"
   ]
  },
  {
   "cell_type": "code",
   "execution_count": null,
   "id": "humanitarian-astrology",
   "metadata": {},
   "outputs": [],
   "source": [
    "import api\n",
    "import imp\n",
    "import araalictl"
   ]
  },
  {
   "cell_type": "code",
   "execution_count": null,
   "id": "vocational-briefing",
   "metadata": {},
   "outputs": [],
   "source": [
    "# if you are a api dev and make changes\n",
    "imp.reload(araalictl)\n",
    "imp.reload(api)"
   ]
  },
  {
   "cell_type": "code",
   "execution_count": null,
   "id": "lesser-washer",
   "metadata": {},
   "outputs": [],
   "source": [
    "api.g_tenant = None"
   ]
  },
  {
   "cell_type": "markdown",
   "id": "ambient-selling",
   "metadata": {},
   "source": [
    "# Get all lenses"
   ]
  },
  {
   "cell_type": "code",
   "execution_count": null,
   "id": "beneficial-player",
   "metadata": {},
   "outputs": [],
   "source": [
    "api.Table(api.Lens.get(enforced=False, starred=False, all=True))"
   ]
  },
  {
   "cell_type": "code",
   "execution_count": null,
   "id": "shaped-harris",
   "metadata": {},
   "outputs": [],
   "source": [
    "lens = _.links"
   ]
  },
  {
   "cell_type": "markdown",
   "id": "changed-honduras",
   "metadata": {},
   "source": [
    "## Count them"
   ]
  },
  {
   "cell_type": "code",
   "execution_count": null,
   "id": "aggressive-porter",
   "metadata": {},
   "outputs": [],
   "source": [
    "len(lens)"
   ]
  },
  {
   "cell_type": "markdown",
   "id": "infectious-playlist",
   "metadata": {},
   "source": [
    "## Pick one of the links"
   ]
  },
  {
   "cell_type": "code",
   "execution_count": null,
   "id": "creative-anniversary",
   "metadata": {},
   "outputs": [],
   "source": [
    "lnum = 102"
   ]
  },
  {
   "cell_type": "code",
   "execution_count": null,
   "id": "average-imagination",
   "metadata": {},
   "outputs": [],
   "source": [
    "lens[lnum]"
   ]
  },
  {
   "cell_type": "markdown",
   "id": "personal-scholar",
   "metadata": {},
   "source": [
    "# Lens to App Policies or Links"
   ]
  },
  {
   "cell_type": "code",
   "execution_count": null,
   "id": "saved-operations",
   "metadata": {},
   "outputs": [],
   "source": [
    "app = lens[lnum].app()"
   ]
  },
  {
   "cell_type": "code",
   "execution_count": null,
   "id": "matched-bottom",
   "metadata": {},
   "outputs": [],
   "source": [
    "api.Table(app.stats())"
   ]
  },
  {
   "cell_type": "code",
   "execution_count": null,
   "id": "consolidated-skirt",
   "metadata": {},
   "outputs": [],
   "source": [
    "api.LinkTable(app.iterlinks())"
   ]
  },
  {
   "cell_type": "markdown",
   "id": "rubber-ideal",
   "metadata": {},
   "source": [
    "# App to Template"
   ]
  },
  {
   "cell_type": "code",
   "execution_count": null,
   "id": "brave-somewhere",
   "metadata": {},
   "outputs": [],
   "source": [
    "app.template()"
   ]
  },
  {
   "cell_type": "markdown",
   "id": "golden-adelaide",
   "metadata": {},
   "source": [
    "## Store the template from output above into a variable"
   ]
  },
  {
   "cell_type": "code",
   "execution_count": null,
   "id": "parallel-firewall",
   "metadata": {},
   "outputs": [],
   "source": [
    "t = _"
   ]
  },
  {
   "cell_type": "markdown",
   "id": "geological-greek",
   "metadata": {},
   "source": [
    "## Indexed summary of the template"
   ]
  },
  {
   "cell_type": "code",
   "execution_count": null,
   "id": "inner-patent",
   "metadata": {
    "scrolled": true
   },
   "outputs": [],
   "source": [
    "api.Table(t.index)"
   ]
  },
  {
   "cell_type": "markdown",
   "id": "upper-accessory",
   "metadata": {},
   "source": [
    "## Nodes of the template - so we can do some editing"
   ]
  },
  {
   "cell_type": "code",
   "execution_count": null,
   "id": "exposed-stanford",
   "metadata": {},
   "outputs": [],
   "source": [
    "api.Table(t.nodes())"
   ]
  },
  {
   "cell_type": "markdown",
   "id": "collected-quarterly",
   "metadata": {},
   "source": [
    "## If you want to keep just one process/service and its links"
   ]
  },
  {
   "cell_type": "code",
   "execution_count": null,
   "id": "treated-holmes",
   "metadata": {},
   "outputs": [],
   "source": [
    "t.keep_node(0)"
   ]
  },
  {
   "cell_type": "markdown",
   "id": "moved-accordance",
   "metadata": {},
   "source": [
    "## View the locally modified template"
   ]
  },
  {
   "cell_type": "code",
   "execution_count": null,
   "id": "diagnostic-proxy",
   "metadata": {},
   "outputs": [],
   "source": [
    "api.Table(t.nodes())"
   ]
  },
  {
   "cell_type": "markdown",
   "id": "occasional-violation",
   "metadata": {},
   "source": [
    "## If you want to delete some nodes"
   ]
  },
  {
   "cell_type": "code",
   "execution_count": null,
   "id": "mobile-reconstruction",
   "metadata": {},
   "outputs": [],
   "source": [
    "t.delete_nodes(*range(3,4))"
   ]
  },
  {
   "cell_type": "code",
   "execution_count": null,
   "id": "labeled-delivery",
   "metadata": {},
   "outputs": [],
   "source": [
    "api.Table(t.nodes())"
   ]
  },
  {
   "cell_type": "markdown",
   "id": "clean-title",
   "metadata": {},
   "source": [
    "## If you want to update some nodes"
   ]
  },
  {
   "cell_type": "code",
   "execution_count": null,
   "id": "legislative-botswana",
   "metadata": {},
   "outputs": [],
   "source": [
    "t.update_node(2, {\"dns_pattern\": \".+\", \"dst_port\": 10250})"
   ]
  },
  {
   "cell_type": "code",
   "execution_count": null,
   "id": "related-joseph",
   "metadata": {},
   "outputs": [],
   "source": [
    "t.update_node(0, {\"zone\": \".+\"})"
   ]
  },
  {
   "cell_type": "markdown",
   "id": "transparent-oakland",
   "metadata": {},
   "source": [
    "## If you want to rename the node"
   ]
  },
  {
   "cell_type": "code",
   "execution_count": null,
   "id": "terminal-boulder",
   "metadata": {},
   "outputs": [],
   "source": [
    "t.rename(\"any-kube-system-metrics-server\")"
   ]
  },
  {
   "cell_type": "markdown",
   "id": "front-london",
   "metadata": {},
   "source": [
    "## If you want to publish the template as a public one in Araali Marketplace"
   ]
  },
  {
   "cell_type": "code",
   "execution_count": null,
   "id": "correct-archive",
   "metadata": {},
   "outputs": [],
   "source": [
    "t.public = True"
   ]
  },
  {
   "cell_type": "markdown",
   "id": "turned-outdoors",
   "metadata": {},
   "source": [
    "## If you only want to save locally"
   ]
  },
  {
   "cell_type": "code",
   "execution_count": null,
   "id": "ranging-antarctica",
   "metadata": {},
   "outputs": [],
   "source": [
    "t.save()"
   ]
  },
  {
   "cell_type": "markdown",
   "id": "eight-undergraduate",
   "metadata": {},
   "source": [
    "## If you want to load from a locally saved template"
   ]
  },
  {
   "cell_type": "code",
   "execution_count": null,
   "id": "innocent-official",
   "metadata": {},
   "outputs": [],
   "source": [
    "t = api.Template(fname=\"template-public-any-k8s-nodes-kubelet.yaml\")"
   ]
  },
  {
   "cell_type": "markdown",
   "id": "minor-passing",
   "metadata": {},
   "source": [
    "## If you want to push to Araali Marketplace"
   ]
  },
  {
   "cell_type": "code",
   "execution_count": null,
   "id": "intellectual-holiday",
   "metadata": {},
   "outputs": [],
   "source": [
    "t.push()"
   ]
  },
  {
   "cell_type": "code",
   "execution_count": null,
   "id": "burning-westminster",
   "metadata": {},
   "outputs": [],
   "source": [
    "t"
   ]
  },
  {
   "cell_type": "markdown",
   "id": "right-payroll",
   "metadata": {},
   "source": [
    "# Load up links so you can measure the efficacy of templates"
   ]
  },
  {
   "cell_type": "code",
   "execution_count": null,
   "id": "precious-price",
   "metadata": {},
   "outputs": [],
   "source": [
    "import copy\n",
    "api.Runtime.zone2apps = None\n",
    "run = api.Runtime()\n",
    "run.refresh()\n",
    "runlinks = copy.deepcopy(list(run.iterlinks()))"
   ]
  },
  {
   "cell_type": "markdown",
   "id": "eligible-plain",
   "metadata": {},
   "source": [
    "## Summary of alerts"
   ]
  },
  {
   "cell_type": "code",
   "execution_count": null,
   "id": "bottom-liberty",
   "metadata": {},
   "outputs": [],
   "source": [
    "api.Table(run.link_stats(all=True, only_new=True, runlink=runlinks))"
   ]
  },
  {
   "cell_type": "markdown",
   "id": "covered-patrick",
   "metadata": {},
   "source": [
    "# Load all public teamplates in Araali Marketplace"
   ]
  },
  {
   "cell_type": "code",
   "execution_count": null,
   "id": "mature-diameter",
   "metadata": {},
   "outputs": [],
   "source": [
    "matchers = api.Templates(public=True)"
   ]
  },
  {
   "cell_type": "markdown",
   "id": "premium-survey",
   "metadata": {},
   "source": [
    "## Add a local template to it"
   ]
  },
  {
   "cell_type": "code",
   "execution_count": null,
   "id": "adaptive-andorra",
   "metadata": {},
   "outputs": [],
   "source": [
    "t = api.Template(fname=\"template-any-kube-system-metrics-server.yaml\")"
   ]
  },
  {
   "cell_type": "code",
   "execution_count": null,
   "id": "limiting-pound",
   "metadata": {},
   "outputs": [],
   "source": [
    "matchers.add(t)"
   ]
  },
  {
   "cell_type": "markdown",
   "id": "aboriginal-savage",
   "metadata": {},
   "source": [
    "## View the list of templates that you will be matching with"
   ]
  },
  {
   "cell_type": "code",
   "execution_count": null,
   "id": "selected-puppy",
   "metadata": {},
   "outputs": [],
   "source": [
    "api.Table(matchers.templates)"
   ]
  },
  {
   "cell_type": "markdown",
   "id": "provincial-pathology",
   "metadata": {},
   "source": [
    "# Run all the links through matchers with post filters"
   ]
  },
  {
   "cell_type": "code",
   "execution_count": null,
   "id": "fundamental-turtle",
   "metadata": {
    "scrolled": true
   },
   "outputs": [],
   "source": [
    "api.LinkTable(matchers.run(runlinks, matched=False), \n",
    "          lambda o: o[\"type\"] == \"NAE\",\n",
    "          #lambda o: o[\"client\"][\"process\"] == \"chrome\"\n",
    "         )"
   ]
  },
  {
   "cell_type": "markdown",
   "id": "following-harvey",
   "metadata": {},
   "source": [
    "## Analyze all the links that did not match"
   ]
  },
  {
   "cell_type": "code",
   "execution_count": null,
   "id": "integrated-orange",
   "metadata": {},
   "outputs": [],
   "source": [
    "links = _.links"
   ]
  },
  {
   "cell_type": "code",
   "execution_count": null,
   "id": "apart-trick",
   "metadata": {},
   "outputs": [],
   "source": [
    "len(links)"
   ]
  },
  {
   "cell_type": "markdown",
   "id": "organic-folder",
   "metadata": {},
   "source": [
    "## Take a link and make a template out of it"
   ]
  },
  {
   "cell_type": "code",
   "execution_count": null,
   "id": "fuzzy-spending",
   "metadata": {},
   "outputs": [],
   "source": [
    "links[0].template()"
   ]
  },
  {
   "cell_type": "code",
   "execution_count": null,
   "id": "straight-tradition",
   "metadata": {},
   "outputs": [],
   "source": [
    "t = _"
   ]
  },
  {
   "cell_type": "code",
   "execution_count": null,
   "id": "mathematical-robinson",
   "metadata": {},
   "outputs": [],
   "source": [
    "t.rename(\"zone-app-process\")"
   ]
  },
  {
   "cell_type": "code",
   "execution_count": null,
   "id": "ongoing-tender",
   "metadata": {},
   "outputs": [],
   "source": [
    "api.Table(t.index)"
   ]
  },
  {
   "cell_type": "code",
   "execution_count": null,
   "id": "compressed-remainder",
   "metadata": {},
   "outputs": [],
   "source": [
    "api.Table(t.nodes())"
   ]
  },
  {
   "cell_type": "code",
   "execution_count": null,
   "id": "maritime-continuity",
   "metadata": {},
   "outputs": [],
   "source": [
    "t.update_node(1, {\"dns_pattern\": \".+\"})"
   ]
  },
  {
   "cell_type": "code",
   "execution_count": null,
   "id": "noticed-trunk",
   "metadata": {},
   "outputs": [],
   "source": [
    "t.save()"
   ]
  },
  {
   "cell_type": "code",
   "execution_count": null,
   "id": "judicial-think",
   "metadata": {},
   "outputs": [],
   "source": [
    "api.Table(api.value_count([a.type for a in links]))"
   ]
  },
  {
   "cell_type": "code",
   "execution_count": null,
   "id": "liberal-transsexual",
   "metadata": {},
   "outputs": [],
   "source": [
    "api.Table(links, lambda o: o[\"client\"][\"process\"] == \"metrics-server\")"
   ]
  },
  {
   "cell_type": "code",
   "execution_count": null,
   "id": "honey-slovakia",
   "metadata": {},
   "outputs": [],
   "source": [
    "api.Table(api.value_count([a.client.app for a in _.links]))"
   ]
  },
  {
   "cell_type": "code",
   "execution_count": null,
   "id": "guilty-louisville",
   "metadata": {},
   "outputs": [],
   "source": [
    "api.LinkTable([a for a in links if a.server.dns_pattern is None])"
   ]
  },
  {
   "cell_type": "code",
   "execution_count": null,
   "id": "satisfied-singing",
   "metadata": {},
   "outputs": [],
   "source": [
    "api.Table(api.value_count([a.server.subnet for a in links if hasattr(a.server, \"subnet\")]))"
   ]
  },
  {
   "cell_type": "code",
   "execution_count": null,
   "id": "prompt-cover",
   "metadata": {
    "scrolled": true
   },
   "outputs": [],
   "source": [
    "api.Table(api.value_count([a.server.dns_pattern for a in links]))"
   ]
  },
  {
   "cell_type": "code",
   "execution_count": null,
   "id": "differential-ministry",
   "metadata": {
    "scrolled": true
   },
   "outputs": [],
   "source": [
    "api.Table(api.value_count([a.client.process for a in links]))"
   ]
  },
  {
   "cell_type": "code",
   "execution_count": null,
   "id": "spiritual-publisher",
   "metadata": {},
   "outputs": [],
   "source": [
    "api.Table(api.value_count([a.type for a in links]))"
   ]
  },
  {
   "cell_type": "markdown",
   "id": "descending-preserve",
   "metadata": {},
   "source": [
    "# Score after all the template based work"
   ]
  },
  {
   "cell_type": "code",
   "execution_count": null,
   "id": "voluntary-zealand",
   "metadata": {},
   "outputs": [],
   "source": [
    "api.Table(run.link_stats(all=True, only_new=True, runlink=runlinks))"
   ]
  },
  {
   "cell_type": "markdown",
   "id": "searching-bride",
   "metadata": {},
   "source": [
    "## Analyze efficacy of individual matchers"
   ]
  },
  {
   "cell_type": "code",
   "execution_count": null,
   "id": "aerial-crown",
   "metadata": {},
   "outputs": [],
   "source": [
    "api.LinkTable([a for a in runlinks if hasattr(a, \"policy\")])"
   ]
  },
  {
   "cell_type": "code",
   "execution_count": null,
   "id": "periodic-consideration",
   "metadata": {},
   "outputs": [],
   "source": [
    "links = _.links"
   ]
  },
  {
   "cell_type": "code",
   "execution_count": null,
   "id": "disabled-manner",
   "metadata": {},
   "outputs": [],
   "source": [
    "len(links)"
   ]
  },
  {
   "cell_type": "markdown",
   "id": "continued-intention",
   "metadata": {},
   "source": [
    "## Frequency count"
   ]
  },
  {
   "cell_type": "code",
   "execution_count": null,
   "id": "sought-michigan",
   "metadata": {},
   "outputs": [],
   "source": [
    "api.Table(api.value_count([a.policy for a in links]))"
   ]
  },
  {
   "cell_type": "code",
   "execution_count": null,
   "id": "cellular-heating",
   "metadata": {},
   "outputs": [],
   "source": []
  }
 ],
 "metadata": {
  "kernelspec": {
   "display_name": "Python 3",
   "language": "python",
   "name": "python3"
  },
  "language_info": {
   "codemirror_mode": {
    "name": "ipython",
    "version": 3
   },
   "file_extension": ".py",
   "mimetype": "text/x-python",
   "name": "python",
   "nbconvert_exporter": "python",
   "pygments_lexer": "ipython3",
   "version": "3.9.0"
  }
 },
 "nbformat": 4,
 "nbformat_minor": 5
}
