{
 "cells": [
  {
   "cell_type": "markdown",
   "id": "million-massage",
   "metadata": {},
   "source": [
    "<h1 id=\"tocheading\">Table of Contents</h1>\n",
    "<div id=\"toc\"></div>"
   ]
  },
  {
   "cell_type": "code",
   "execution_count": null,
   "id": "driving-radical",
   "metadata": {},
   "outputs": [],
   "source": [
    "%%javascript\n",
    "$.getScript('https://kmahelona.github.io/ipython_notebook_goodies/ipython_notebook_toc.js')"
   ]
  },
  {
   "cell_type": "code",
   "execution_count": null,
   "id": "informal-watson",
   "metadata": {},
   "outputs": [],
   "source": [
    "import api\n",
    "import imp\n",
    "import araalictl"
   ]
  },
  {
   "cell_type": "code",
   "execution_count": null,
   "id": "touched-brighton",
   "metadata": {},
   "outputs": [],
   "source": [
    "# if you are a api dev and make changes\n",
    "imp.reload(araalictl)\n",
    "imp.reload(api)"
   ]
  },
  {
   "cell_type": "code",
   "execution_count": null,
   "id": "baking-spring",
   "metadata": {},
   "outputs": [],
   "source": [
    "api.g_tenant = None"
   ]
  },
  {
   "cell_type": "markdown",
   "id": "inappropriate-stage",
   "metadata": {},
   "source": [
    "# Runtime Assessment"
   ]
  },
  {
   "cell_type": "code",
   "execution_count": null,
   "id": "choice-ticket",
   "metadata": {},
   "outputs": [],
   "source": [
    "assess = api.Assess()"
   ]
  },
  {
   "cell_type": "markdown",
   "id": "compressed-mailman",
   "metadata": {},
   "source": [
    "## Summary"
   ]
  },
  {
   "cell_type": "code",
   "execution_count": null,
   "id": "broad-macro",
   "metadata": {},
   "outputs": [],
   "source": [
    "api.Table(assess.summary())"
   ]
  },
  {
   "cell_type": "code",
   "execution_count": null,
   "id": "aggressive-calendar",
   "metadata": {},
   "outputs": [],
   "source": [
    "api.Table(assess.top_consumed_services())"
   ]
  },
  {
   "cell_type": "markdown",
   "id": "present-south",
   "metadata": {},
   "source": [
    "## Inactive Ports"
   ]
  },
  {
   "cell_type": "code",
   "execution_count": null,
   "id": "romance-examination",
   "metadata": {
    "scrolled": true
   },
   "outputs": [],
   "source": [
    "api.Table(assess.inactive_ports())"
   ]
  },
  {
   "cell_type": "markdown",
   "id": "central-holder",
   "metadata": {},
   "source": [
    "## Perimeter Egress - Orgs and Countries"
   ]
  },
  {
   "cell_type": "code",
   "execution_count": null,
   "id": "critical-rebel",
   "metadata": {},
   "outputs": [],
   "source": [
    "api.Table(assess.geo_org_accessors())"
   ]
  },
  {
   "cell_type": "markdown",
   "id": "incorporated-forest",
   "metadata": {},
   "source": [
    "### Country"
   ]
  },
  {
   "cell_type": "code",
   "execution_count": null,
   "id": "secret-phenomenon",
   "metadata": {},
   "outputs": [],
   "source": [
    "links = _.links"
   ]
  },
  {
   "cell_type": "code",
   "execution_count": null,
   "id": "cooked-mathematics",
   "metadata": {},
   "outputs": [],
   "source": [
    "api.Table(api.value_count([a[\"geo_service_info\"][0][\"country\"] for a in links]))"
   ]
  },
  {
   "cell_type": "markdown",
   "id": "dying-layer",
   "metadata": {},
   "source": [
    "### Org"
   ]
  },
  {
   "cell_type": "code",
   "execution_count": null,
   "id": "statistical-panel",
   "metadata": {},
   "outputs": [],
   "source": [
    "api.Table(api.value_count([a[\"geo_service_info\"][0].get(\"org\", \"\") for a in links]))"
   ]
  },
  {
   "cell_type": "markdown",
   "id": "premium-turtle",
   "metadata": {},
   "source": [
    "## Important Lenses"
   ]
  },
  {
   "cell_type": "code",
   "execution_count": null,
   "id": "central-roommate",
   "metadata": {},
   "outputs": [],
   "source": [
    "api.Table(assess.starred_lenses())"
   ]
  },
  {
   "cell_type": "code",
   "execution_count": null,
   "id": "solid-gross",
   "metadata": {},
   "outputs": [],
   "source": [
    "api.Table(assess.databases())"
   ]
  },
  {
   "cell_type": "code",
   "execution_count": null,
   "id": "bigger-grill",
   "metadata": {},
   "outputs": [],
   "source": [
    "api.Table(assess.dbaas())"
   ]
  },
  {
   "cell_type": "code",
   "execution_count": null,
   "id": "endless-cocktail",
   "metadata": {},
   "outputs": [],
   "source": [
    "api.Table(assess.important_processes())"
   ]
  },
  {
   "cell_type": "markdown",
   "id": "bronze-accountability",
   "metadata": {},
   "source": [
    "# Get all lenses"
   ]
  },
  {
   "cell_type": "code",
   "execution_count": null,
   "id": "innocent-witness",
   "metadata": {},
   "outputs": [],
   "source": [
    "api.Table(api.Lens.get(enforced=False, starred=False, all=True),\n",
    "          #lambda o: o[\"type\"] == \"fqdn\"\n",
    "         )"
   ]
  },
  {
   "cell_type": "code",
   "execution_count": null,
   "id": "determined-disposition",
   "metadata": {},
   "outputs": [],
   "source": [
    "lens = _.links"
   ]
  },
  {
   "cell_type": "code",
   "execution_count": null,
   "id": "center-burton",
   "metadata": {},
   "outputs": [],
   "source": [
    "api.Table(api.value_count([a.type() for a in lens]))"
   ]
  },
  {
   "cell_type": "code",
   "execution_count": null,
   "id": "adopted-membrane",
   "metadata": {},
   "outputs": [],
   "source": [
    "api.Table(lens, lambda o: o[\"type\"] == \"app\")"
   ]
  },
  {
   "cell_type": "code",
   "execution_count": null,
   "id": "reserved-vampire",
   "metadata": {},
   "outputs": [],
   "source": [
    "api.Table(lens, lambda o: o[\"type\"] == \"ip\")"
   ]
  },
  {
   "cell_type": "code",
   "execution_count": null,
   "id": "apart-saturday",
   "metadata": {
    "scrolled": true
   },
   "outputs": [],
   "source": [
    "api.Table(lens, lambda o: o[\"type\"] == \"fqdn\")"
   ]
  },
  {
   "cell_type": "markdown",
   "id": "former-perfume",
   "metadata": {},
   "source": [
    "## Count them"
   ]
  },
  {
   "cell_type": "code",
   "execution_count": null,
   "id": "textile-olive",
   "metadata": {},
   "outputs": [],
   "source": [
    "len(lens)"
   ]
  },
  {
   "cell_type": "markdown",
   "id": "statewide-carbon",
   "metadata": {},
   "source": [
    "## Pick one of the links"
   ]
  },
  {
   "cell_type": "code",
   "execution_count": null,
   "id": "purple-sentence",
   "metadata": {},
   "outputs": [],
   "source": [
    "api.Table([a for a in lens if a.obj.get(\"app\", \"\") == \"kube-system\"])"
   ]
  },
  {
   "cell_type": "code",
   "execution_count": null,
   "id": "painful-turner",
   "metadata": {},
   "outputs": [],
   "source": [
    "api.Table([a for a in lens if a.obj.get(\"fqdn\", \"\") == \"github.com\"])"
   ]
  },
  {
   "cell_type": "code",
   "execution_count": null,
   "id": "prime-shield",
   "metadata": {},
   "outputs": [],
   "source": [
    "api.Table([a for a in lens if a.obj.get(\"ip\", \"\") == \"169.254.169.254\"])"
   ]
  },
  {
   "cell_type": "code",
   "execution_count": null,
   "id": "subject-savings",
   "metadata": {},
   "outputs": [],
   "source": [
    "mylens = _.links[0]"
   ]
  },
  {
   "cell_type": "markdown",
   "id": "surprised-hazard",
   "metadata": {},
   "source": [
    "# Lens to App Policies or Links"
   ]
  },
  {
   "cell_type": "code",
   "execution_count": null,
   "id": "honey-publication",
   "metadata": {},
   "outputs": [],
   "source": [
    "app = mylens.app()"
   ]
  },
  {
   "cell_type": "code",
   "execution_count": null,
   "id": "restricted-wyoming",
   "metadata": {},
   "outputs": [],
   "source": [
    "api.Table(app.stats())"
   ]
  },
  {
   "cell_type": "code",
   "execution_count": null,
   "id": "vanilla-guess",
   "metadata": {},
   "outputs": [],
   "source": [
    "api.LinkTable(app.iterlinks())"
   ]
  },
  {
   "cell_type": "markdown",
   "id": "dependent-lunch",
   "metadata": {},
   "source": [
    "# App to Template"
   ]
  },
  {
   "cell_type": "code",
   "execution_count": null,
   "id": "crucial-marketplace",
   "metadata": {},
   "outputs": [],
   "source": [
    "app.template()"
   ]
  },
  {
   "cell_type": "markdown",
   "id": "viral-player",
   "metadata": {},
   "source": [
    "## Store the template from output above into a variable"
   ]
  },
  {
   "cell_type": "code",
   "execution_count": null,
   "id": "stretch-stuff",
   "metadata": {},
   "outputs": [],
   "source": [
    "t = _"
   ]
  },
  {
   "cell_type": "markdown",
   "id": "unable-guard",
   "metadata": {},
   "source": [
    "## Indexed summary of the template"
   ]
  },
  {
   "cell_type": "code",
   "execution_count": null,
   "id": "alien-baker",
   "metadata": {
    "scrolled": true
   },
   "outputs": [],
   "source": [
    "api.Table(t.index)"
   ]
  },
  {
   "cell_type": "markdown",
   "id": "prime-constraint",
   "metadata": {},
   "source": [
    "## Nodes of the template - so we can do some editing"
   ]
  },
  {
   "cell_type": "code",
   "execution_count": null,
   "id": "endless-hungary",
   "metadata": {},
   "outputs": [],
   "source": [
    "api.Table(t.nodes())"
   ]
  },
  {
   "cell_type": "markdown",
   "id": "departmental-copyright",
   "metadata": {},
   "source": [
    "## If you want to keep just one process/service and its links"
   ]
  },
  {
   "cell_type": "code",
   "execution_count": null,
   "id": "toxic-shopper",
   "metadata": {},
   "outputs": [],
   "source": [
    "t.keep_node(0)"
   ]
  },
  {
   "cell_type": "markdown",
   "id": "elegant-courage",
   "metadata": {},
   "source": [
    "## View the locally modified template"
   ]
  },
  {
   "cell_type": "code",
   "execution_count": null,
   "id": "qualified-toner",
   "metadata": {},
   "outputs": [],
   "source": [
    "api.Table(t.nodes())"
   ]
  },
  {
   "cell_type": "markdown",
   "id": "lonely-maximum",
   "metadata": {},
   "source": [
    "## If you want to delete some nodes"
   ]
  },
  {
   "cell_type": "code",
   "execution_count": null,
   "id": "located-nudist",
   "metadata": {},
   "outputs": [],
   "source": [
    "t.delete_nodes(*range(3,4))"
   ]
  },
  {
   "cell_type": "code",
   "execution_count": null,
   "id": "aerial-indication",
   "metadata": {},
   "outputs": [],
   "source": [
    "api.Table(t.nodes())"
   ]
  },
  {
   "cell_type": "markdown",
   "id": "future-colonial",
   "metadata": {},
   "source": [
    "## If you want to update some nodes"
   ]
  },
  {
   "cell_type": "code",
   "execution_count": null,
   "id": "solar-moscow",
   "metadata": {},
   "outputs": [],
   "source": [
    "t.update_node(2, {\"dns_pattern\": \".+\", \"dst_port\": 10250})"
   ]
  },
  {
   "cell_type": "code",
   "execution_count": null,
   "id": "popular-cooling",
   "metadata": {},
   "outputs": [],
   "source": [
    "t.update_node(0, {\"zone\": \".+\"})"
   ]
  },
  {
   "cell_type": "markdown",
   "id": "specific-citizenship",
   "metadata": {},
   "source": [
    "## If you want to rename the node"
   ]
  },
  {
   "cell_type": "code",
   "execution_count": null,
   "id": "peaceful-lobby",
   "metadata": {},
   "outputs": [],
   "source": [
    "t.rename(\"any-kube-system-metrics-server\")"
   ]
  },
  {
   "cell_type": "markdown",
   "id": "headed-thread",
   "metadata": {},
   "source": [
    "## If you want to publish the template as a public one in Araali Marketplace"
   ]
  },
  {
   "cell_type": "code",
   "execution_count": null,
   "id": "cloudy-finnish",
   "metadata": {},
   "outputs": [],
   "source": [
    "t.public = True"
   ]
  },
  {
   "cell_type": "markdown",
   "id": "proud-differential",
   "metadata": {},
   "source": [
    "## If you only want to save locally"
   ]
  },
  {
   "cell_type": "code",
   "execution_count": null,
   "id": "recreational-shopping",
   "metadata": {},
   "outputs": [],
   "source": [
    "t.save()"
   ]
  },
  {
   "cell_type": "markdown",
   "id": "durable-comparison",
   "metadata": {},
   "source": [
    "## If you want to load from a locally saved template"
   ]
  },
  {
   "cell_type": "code",
   "execution_count": null,
   "id": "rough-response",
   "metadata": {},
   "outputs": [],
   "source": [
    "t = api.Template(fname=\"template-public-any-k8s-nodes-kubelet.yaml\")"
   ]
  },
  {
   "cell_type": "markdown",
   "id": "computational-indianapolis",
   "metadata": {},
   "source": [
    "## If you want to push to Araali Marketplace"
   ]
  },
  {
   "cell_type": "code",
   "execution_count": null,
   "id": "engaging-pittsburgh",
   "metadata": {},
   "outputs": [],
   "source": [
    "t.push()"
   ]
  },
  {
   "cell_type": "code",
   "execution_count": null,
   "id": "vocational-tower",
   "metadata": {},
   "outputs": [],
   "source": [
    "t"
   ]
  },
  {
   "cell_type": "markdown",
   "id": "inside-drama",
   "metadata": {},
   "source": [
    "# Load up links so you can measure the efficacy of templates"
   ]
  },
  {
   "cell_type": "code",
   "execution_count": null,
   "id": "unique-supervisor",
   "metadata": {},
   "outputs": [],
   "source": [
    "import copy\n",
    "api.Runtime.zone2apps = None\n",
    "run = api.Runtime()\n",
    "run.refresh()\n",
    "runlinks = copy.deepcopy(list(run.iterlinks()))"
   ]
  },
  {
   "cell_type": "markdown",
   "id": "current-juice",
   "metadata": {},
   "source": [
    "## Summary of alerts"
   ]
  },
  {
   "cell_type": "code",
   "execution_count": null,
   "id": "forbidden-nudist",
   "metadata": {},
   "outputs": [],
   "source": [
    "api.Table(run.link_stats(all=True, only_new=True, runlink=runlinks))"
   ]
  },
  {
   "cell_type": "markdown",
   "id": "bigger-ontario",
   "metadata": {},
   "source": [
    "# Load all public teamplates in Araali Marketplace"
   ]
  },
  {
   "cell_type": "code",
   "execution_count": null,
   "id": "promising-tablet",
   "metadata": {},
   "outputs": [],
   "source": [
    "matchers = api.Templates(public=True)"
   ]
  },
  {
   "cell_type": "markdown",
   "id": "great-slave",
   "metadata": {},
   "source": [
    "## Add a local template to it"
   ]
  },
  {
   "cell_type": "code",
   "execution_count": null,
   "id": "square-software",
   "metadata": {},
   "outputs": [],
   "source": [
    "t = api.Template(fname=\"template-any-kube-system-metrics-server.yaml\")"
   ]
  },
  {
   "cell_type": "code",
   "execution_count": null,
   "id": "central-piano",
   "metadata": {},
   "outputs": [],
   "source": [
    "matchers.add(t)"
   ]
  },
  {
   "cell_type": "markdown",
   "id": "rolled-hartford",
   "metadata": {},
   "source": [
    "## View the list of templates that you will be matching with"
   ]
  },
  {
   "cell_type": "code",
   "execution_count": null,
   "id": "dangerous-tomato",
   "metadata": {},
   "outputs": [],
   "source": [
    "api.Table(matchers.templates)"
   ]
  },
  {
   "cell_type": "markdown",
   "id": "inclusive-sending",
   "metadata": {},
   "source": [
    "# Run all the links through matchers with post filters"
   ]
  },
  {
   "cell_type": "code",
   "execution_count": null,
   "id": "built-component",
   "metadata": {
    "scrolled": true
   },
   "outputs": [],
   "source": [
    "api.LinkTable(matchers.run(runlinks, matched=False), \n",
    "          lambda o: o[\"type\"] == \"NAE\",\n",
    "          #lambda o: o[\"client\"][\"process\"] == \"chrome\"\n",
    "         )"
   ]
  },
  {
   "cell_type": "markdown",
   "id": "amazing-poker",
   "metadata": {},
   "source": [
    "## Analyze all the links that did not match"
   ]
  },
  {
   "cell_type": "code",
   "execution_count": null,
   "id": "swiss-candidate",
   "metadata": {},
   "outputs": [],
   "source": [
    "links = _.links"
   ]
  },
  {
   "cell_type": "code",
   "execution_count": null,
   "id": "demographic-waterproof",
   "metadata": {},
   "outputs": [],
   "source": [
    "len(links)"
   ]
  },
  {
   "cell_type": "markdown",
   "id": "reduced-float",
   "metadata": {},
   "source": [
    "## Take a link and make a template out of it"
   ]
  },
  {
   "cell_type": "code",
   "execution_count": null,
   "id": "appropriate-syracuse",
   "metadata": {},
   "outputs": [],
   "source": [
    "links[0].template()"
   ]
  },
  {
   "cell_type": "code",
   "execution_count": null,
   "id": "marine-passage",
   "metadata": {},
   "outputs": [],
   "source": [
    "t = _"
   ]
  },
  {
   "cell_type": "code",
   "execution_count": null,
   "id": "aboriginal-business",
   "metadata": {},
   "outputs": [],
   "source": [
    "t.rename(\"zone-app-process\")"
   ]
  },
  {
   "cell_type": "code",
   "execution_count": null,
   "id": "super-burner",
   "metadata": {},
   "outputs": [],
   "source": [
    "api.Table(t.index)"
   ]
  },
  {
   "cell_type": "code",
   "execution_count": null,
   "id": "virgin-reading",
   "metadata": {},
   "outputs": [],
   "source": [
    "api.Table(t.nodes())"
   ]
  },
  {
   "cell_type": "code",
   "execution_count": null,
   "id": "usual-quarterly",
   "metadata": {},
   "outputs": [],
   "source": [
    "t.update_node(1, {\"dns_pattern\": \".+\"})"
   ]
  },
  {
   "cell_type": "code",
   "execution_count": null,
   "id": "civil-reaction",
   "metadata": {},
   "outputs": [],
   "source": [
    "t.save()"
   ]
  },
  {
   "cell_type": "code",
   "execution_count": null,
   "id": "casual-pharmaceutical",
   "metadata": {},
   "outputs": [],
   "source": [
    "api.Table(api.value_count([a.type for a in links]))"
   ]
  },
  {
   "cell_type": "code",
   "execution_count": null,
   "id": "personal-expression",
   "metadata": {},
   "outputs": [],
   "source": [
    "api.Table(links, lambda o: o[\"client\"][\"process\"] == \"metrics-server\")"
   ]
  },
  {
   "cell_type": "code",
   "execution_count": null,
   "id": "historic-psychology",
   "metadata": {},
   "outputs": [],
   "source": [
    "api.Table(api.value_count([a.client.app for a in _.links]))"
   ]
  },
  {
   "cell_type": "code",
   "execution_count": null,
   "id": "ultimate-delaware",
   "metadata": {},
   "outputs": [],
   "source": [
    "api.LinkTable([a for a in links if a.server.dns_pattern is None])"
   ]
  },
  {
   "cell_type": "code",
   "execution_count": null,
   "id": "overhead-closure",
   "metadata": {},
   "outputs": [],
   "source": [
    "api.Table(api.value_count([a.server.subnet for a in links if hasattr(a.server, \"subnet\")]))"
   ]
  },
  {
   "cell_type": "code",
   "execution_count": null,
   "id": "herbal-limitation",
   "metadata": {
    "scrolled": true
   },
   "outputs": [],
   "source": [
    "api.Table(api.value_count([a.server.dns_pattern for a in links]))"
   ]
  },
  {
   "cell_type": "code",
   "execution_count": null,
   "id": "vertical-allen",
   "metadata": {
    "scrolled": true
   },
   "outputs": [],
   "source": [
    "api.Table(api.value_count([a.client.process for a in links]))"
   ]
  },
  {
   "cell_type": "code",
   "execution_count": null,
   "id": "typical-macro",
   "metadata": {},
   "outputs": [],
   "source": [
    "api.Table(api.value_count([a.type for a in links]))"
   ]
  },
  {
   "cell_type": "markdown",
   "id": "human-moisture",
   "metadata": {},
   "source": [
    "# Score after all the template based work"
   ]
  },
  {
   "cell_type": "code",
   "execution_count": null,
   "id": "mounted-punch",
   "metadata": {},
   "outputs": [],
   "source": [
    "api.Table(run.link_stats(all=True, only_new=True, runlink=runlinks))"
   ]
  },
  {
   "cell_type": "markdown",
   "id": "liquid-swaziland",
   "metadata": {},
   "source": [
    "## Analyze efficacy of individual matchers"
   ]
  },
  {
   "cell_type": "code",
   "execution_count": null,
   "id": "shaped-jerusalem",
   "metadata": {},
   "outputs": [],
   "source": [
    "api.LinkTable([a for a in runlinks if hasattr(a, \"policy\")])"
   ]
  },
  {
   "cell_type": "code",
   "execution_count": null,
   "id": "progressive-monroe",
   "metadata": {},
   "outputs": [],
   "source": [
    "links = _.links"
   ]
  },
  {
   "cell_type": "code",
   "execution_count": null,
   "id": "ranking-investigation",
   "metadata": {},
   "outputs": [],
   "source": [
    "len(links)"
   ]
  },
  {
   "cell_type": "markdown",
   "id": "spatial-interpretation",
   "metadata": {},
   "source": [
    "## Frequency count"
   ]
  },
  {
   "cell_type": "code",
   "execution_count": null,
   "id": "every-great",
   "metadata": {},
   "outputs": [],
   "source": [
    "api.Table(api.value_count([a.policy for a in links]))"
   ]
  },
  {
   "cell_type": "code",
   "execution_count": null,
   "id": "medical-australia",
   "metadata": {},
   "outputs": [],
   "source": []
  }
 ],
 "metadata": {
  "kernelspec": {
   "display_name": "Python 3",
   "language": "python",
   "name": "python3"
  },
  "language_info": {
   "codemirror_mode": {
    "name": "ipython",
    "version": 3
   },
   "file_extension": ".py",
   "mimetype": "text/x-python",
   "name": "python",
   "nbconvert_exporter": "python",
   "pygments_lexer": "ipython3",
   "version": "3.9.0"
  }
 },
 "nbformat": 4,
 "nbformat_minor": 5
}
