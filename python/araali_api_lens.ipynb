{
 "cells": [
  {
   "cell_type": "markdown",
   "id": "coupled-barcelona",
   "metadata": {},
   "source": [
    "<h1 id=\"tocheading\">Table of Contents</h1>\n",
    "<div id=\"toc\"></div>"
   ]
  },
  {
   "cell_type": "code",
   "execution_count": null,
   "id": "rational-practitioner",
   "metadata": {},
   "outputs": [],
   "source": [
    "%%javascript\n",
    "$.getScript('https://kmahelona.github.io/ipython_notebook_goodies/ipython_notebook_toc.js')"
   ]
  },
  {
   "cell_type": "code",
   "execution_count": null,
   "id": "underlying-tuesday",
   "metadata": {},
   "outputs": [],
   "source": [
    "import api\n",
    "import imp\n",
    "import araalictl"
   ]
  },
  {
   "cell_type": "code",
   "execution_count": null,
   "id": "early-annual",
   "metadata": {},
   "outputs": [],
   "source": [
    "# if you are a api dev and make changes\n",
    "imp.reload(araalictl)\n",
    "imp.reload(api)"
   ]
  },
  {
   "cell_type": "code",
   "execution_count": null,
   "id": "dangerous-packet",
   "metadata": {},
   "outputs": [],
   "source": [
    "api.g_tenant = None"
   ]
  },
  {
   "cell_type": "markdown",
   "id": "ongoing-trash",
   "metadata": {},
   "source": [
    "# Get all lenses"
   ]
  },
  {
   "cell_type": "code",
   "execution_count": null,
   "id": "varying-montana",
   "metadata": {},
   "outputs": [],
   "source": [
    "api.Table(api.Lens.get(enforced=False, starred=False, all=True),\n",
    "          #lambda o: o[\"type\"] == \"fqdn\"\n",
    "         )"
   ]
  },
  {
   "cell_type": "code",
   "execution_count": null,
   "id": "indie-middle",
   "metadata": {},
   "outputs": [],
   "source": [
    "lens = _.links"
   ]
  },
  {
   "cell_type": "code",
   "execution_count": null,
   "id": "smart-digit",
   "metadata": {},
   "outputs": [],
   "source": [
    "api.Table(api.value_count([a.type() for a in lens]))"
   ]
  },
  {
   "cell_type": "code",
   "execution_count": null,
   "id": "verified-integration",
   "metadata": {},
   "outputs": [],
   "source": [
    "api.Table(lens, lambda o: o[\"type\"] == \"app\")"
   ]
  },
  {
   "cell_type": "code",
   "execution_count": null,
   "id": "parliamentary-efficiency",
   "metadata": {},
   "outputs": [],
   "source": [
    "api.Table(lens, lambda o: o[\"type\"] == \"ip\")"
   ]
  },
  {
   "cell_type": "code",
   "execution_count": null,
   "id": "double-cursor",
   "metadata": {
    "scrolled": true
   },
   "outputs": [],
   "source": [
    "api.Table(lens, lambda o: o[\"type\"] == \"fqdn\")"
   ]
  },
  {
   "cell_type": "markdown",
   "id": "focal-divorce",
   "metadata": {},
   "source": [
    "## Count them"
   ]
  },
  {
   "cell_type": "code",
   "execution_count": null,
   "id": "acting-dominant",
   "metadata": {},
   "outputs": [],
   "source": [
    "len(lens)"
   ]
  },
  {
   "cell_type": "markdown",
   "id": "representative-bailey",
   "metadata": {},
   "source": [
    "## Pick one of the links"
   ]
  },
  {
   "cell_type": "code",
   "execution_count": null,
   "id": "interracial-antibody",
   "metadata": {},
   "outputs": [],
   "source": [
    "lnum = 102"
   ]
  },
  {
   "cell_type": "code",
   "execution_count": null,
   "id": "positive-thesaurus",
   "metadata": {},
   "outputs": [],
   "source": [
    "lens[lnum]"
   ]
  },
  {
   "cell_type": "markdown",
   "id": "offensive-island",
   "metadata": {},
   "source": [
    "# Lens to App Policies or Links"
   ]
  },
  {
   "cell_type": "code",
   "execution_count": null,
   "id": "permanent-stream",
   "metadata": {},
   "outputs": [],
   "source": [
    "app = lens[lnum].app()"
   ]
  },
  {
   "cell_type": "code",
   "execution_count": null,
   "id": "traditional-tomorrow",
   "metadata": {},
   "outputs": [],
   "source": [
    "api.Table(app.stats())"
   ]
  },
  {
   "cell_type": "code",
   "execution_count": null,
   "id": "reasonable-treasury",
   "metadata": {},
   "outputs": [],
   "source": [
    "api.LinkTable(app.iterlinks())"
   ]
  },
  {
   "cell_type": "markdown",
   "id": "divine-turkey",
   "metadata": {},
   "source": [
    "# App to Template"
   ]
  },
  {
   "cell_type": "code",
   "execution_count": null,
   "id": "indonesian-shore",
   "metadata": {},
   "outputs": [],
   "source": [
    "app.template()"
   ]
  },
  {
   "cell_type": "markdown",
   "id": "silent-aaron",
   "metadata": {},
   "source": [
    "## Store the template from output above into a variable"
   ]
  },
  {
   "cell_type": "code",
   "execution_count": null,
   "id": "accompanied-cooperation",
   "metadata": {},
   "outputs": [],
   "source": [
    "t = _"
   ]
  },
  {
   "cell_type": "markdown",
   "id": "functional-parcel",
   "metadata": {},
   "source": [
    "## Indexed summary of the template"
   ]
  },
  {
   "cell_type": "code",
   "execution_count": null,
   "id": "funky-adams",
   "metadata": {
    "scrolled": true
   },
   "outputs": [],
   "source": [
    "api.Table(t.index)"
   ]
  },
  {
   "cell_type": "markdown",
   "id": "comprehensive-breathing",
   "metadata": {},
   "source": [
    "## Nodes of the template - so we can do some editing"
   ]
  },
  {
   "cell_type": "code",
   "execution_count": null,
   "id": "parliamentary-nutrition",
   "metadata": {},
   "outputs": [],
   "source": [
    "api.Table(t.nodes())"
   ]
  },
  {
   "cell_type": "markdown",
   "id": "centered-revision",
   "metadata": {},
   "source": [
    "## If you want to keep just one process/service and its links"
   ]
  },
  {
   "cell_type": "code",
   "execution_count": null,
   "id": "usual-belgium",
   "metadata": {},
   "outputs": [],
   "source": [
    "t.keep_node(0)"
   ]
  },
  {
   "cell_type": "markdown",
   "id": "rational-grain",
   "metadata": {},
   "source": [
    "## View the locally modified template"
   ]
  },
  {
   "cell_type": "code",
   "execution_count": null,
   "id": "announced-plane",
   "metadata": {},
   "outputs": [],
   "source": [
    "api.Table(t.nodes())"
   ]
  },
  {
   "cell_type": "markdown",
   "id": "previous-thriller",
   "metadata": {},
   "source": [
    "## If you want to delete some nodes"
   ]
  },
  {
   "cell_type": "code",
   "execution_count": null,
   "id": "binding-catalyst",
   "metadata": {},
   "outputs": [],
   "source": [
    "t.delete_nodes(*range(3,4))"
   ]
  },
  {
   "cell_type": "code",
   "execution_count": null,
   "id": "bronze-powder",
   "metadata": {},
   "outputs": [],
   "source": [
    "api.Table(t.nodes())"
   ]
  },
  {
   "cell_type": "markdown",
   "id": "mature-delivery",
   "metadata": {},
   "source": [
    "## If you want to update some nodes"
   ]
  },
  {
   "cell_type": "code",
   "execution_count": null,
   "id": "direct-crash",
   "metadata": {},
   "outputs": [],
   "source": [
    "t.update_node(2, {\"dns_pattern\": \".+\", \"dst_port\": 10250})"
   ]
  },
  {
   "cell_type": "code",
   "execution_count": null,
   "id": "african-country",
   "metadata": {},
   "outputs": [],
   "source": [
    "t.update_node(0, {\"zone\": \".+\"})"
   ]
  },
  {
   "cell_type": "markdown",
   "id": "literary-hospital",
   "metadata": {},
   "source": [
    "## If you want to rename the node"
   ]
  },
  {
   "cell_type": "code",
   "execution_count": null,
   "id": "governmental-mailman",
   "metadata": {},
   "outputs": [],
   "source": [
    "t.rename(\"any-kube-system-metrics-server\")"
   ]
  },
  {
   "cell_type": "markdown",
   "id": "variable-pickup",
   "metadata": {},
   "source": [
    "## If you want to publish the template as a public one in Araali Marketplace"
   ]
  },
  {
   "cell_type": "code",
   "execution_count": null,
   "id": "emotional-going",
   "metadata": {},
   "outputs": [],
   "source": [
    "t.public = True"
   ]
  },
  {
   "cell_type": "markdown",
   "id": "digital-facial",
   "metadata": {},
   "source": [
    "## If you only want to save locally"
   ]
  },
  {
   "cell_type": "code",
   "execution_count": null,
   "id": "instant-keyboard",
   "metadata": {},
   "outputs": [],
   "source": [
    "t.save()"
   ]
  },
  {
   "cell_type": "markdown",
   "id": "national-stereo",
   "metadata": {},
   "source": [
    "## If you want to load from a locally saved template"
   ]
  },
  {
   "cell_type": "code",
   "execution_count": null,
   "id": "welcome-aircraft",
   "metadata": {},
   "outputs": [],
   "source": [
    "t = api.Template(fname=\"template-public-any-k8s-nodes-kubelet.yaml\")"
   ]
  },
  {
   "cell_type": "markdown",
   "id": "beneficial-compact",
   "metadata": {},
   "source": [
    "## If you want to push to Araali Marketplace"
   ]
  },
  {
   "cell_type": "code",
   "execution_count": null,
   "id": "disturbed-review",
   "metadata": {},
   "outputs": [],
   "source": [
    "t.push()"
   ]
  },
  {
   "cell_type": "code",
   "execution_count": null,
   "id": "color-glance",
   "metadata": {},
   "outputs": [],
   "source": [
    "t"
   ]
  },
  {
   "cell_type": "markdown",
   "id": "federal-nebraska",
   "metadata": {},
   "source": [
    "# Load up links so you can measure the efficacy of templates"
   ]
  },
  {
   "cell_type": "code",
   "execution_count": null,
   "id": "fatty-newsletter",
   "metadata": {},
   "outputs": [],
   "source": [
    "import copy\n",
    "api.Runtime.zone2apps = None\n",
    "run = api.Runtime()\n",
    "run.refresh()\n",
    "runlinks = copy.deepcopy(list(run.iterlinks()))"
   ]
  },
  {
   "cell_type": "markdown",
   "id": "closed-bunch",
   "metadata": {},
   "source": [
    "## Summary of alerts"
   ]
  },
  {
   "cell_type": "code",
   "execution_count": null,
   "id": "outer-suite",
   "metadata": {},
   "outputs": [],
   "source": [
    "api.Table(run.link_stats(all=True, only_new=True, runlink=runlinks))"
   ]
  },
  {
   "cell_type": "markdown",
   "id": "supreme-static",
   "metadata": {},
   "source": [
    "# Load all public teamplates in Araali Marketplace"
   ]
  },
  {
   "cell_type": "code",
   "execution_count": null,
   "id": "velvet-criticism",
   "metadata": {},
   "outputs": [],
   "source": [
    "matchers = api.Templates(public=True)"
   ]
  },
  {
   "cell_type": "markdown",
   "id": "freelance-height",
   "metadata": {},
   "source": [
    "## Add a local template to it"
   ]
  },
  {
   "cell_type": "code",
   "execution_count": null,
   "id": "reported-tooth",
   "metadata": {},
   "outputs": [],
   "source": [
    "t = api.Template(fname=\"template-any-kube-system-metrics-server.yaml\")"
   ]
  },
  {
   "cell_type": "code",
   "execution_count": null,
   "id": "false-copyright",
   "metadata": {},
   "outputs": [],
   "source": [
    "matchers.add(t)"
   ]
  },
  {
   "cell_type": "markdown",
   "id": "indoor-manufacturer",
   "metadata": {},
   "source": [
    "## View the list of templates that you will be matching with"
   ]
  },
  {
   "cell_type": "code",
   "execution_count": null,
   "id": "reverse-scholar",
   "metadata": {},
   "outputs": [],
   "source": [
    "api.Table(matchers.templates)"
   ]
  },
  {
   "cell_type": "markdown",
   "id": "tired-secondary",
   "metadata": {},
   "source": [
    "# Run all the links through matchers with post filters"
   ]
  },
  {
   "cell_type": "code",
   "execution_count": null,
   "id": "julian-terrorist",
   "metadata": {
    "scrolled": true
   },
   "outputs": [],
   "source": [
    "api.LinkTable(matchers.run(runlinks, matched=False), \n",
    "          lambda o: o[\"type\"] == \"NAE\",\n",
    "          #lambda o: o[\"client\"][\"process\"] == \"chrome\"\n",
    "         )"
   ]
  },
  {
   "cell_type": "markdown",
   "id": "behavioral-intersection",
   "metadata": {},
   "source": [
    "## Analyze all the links that did not match"
   ]
  },
  {
   "cell_type": "code",
   "execution_count": null,
   "id": "protected-kitchen",
   "metadata": {},
   "outputs": [],
   "source": [
    "links = _.links"
   ]
  },
  {
   "cell_type": "code",
   "execution_count": null,
   "id": "engaged-privacy",
   "metadata": {},
   "outputs": [],
   "source": [
    "len(links)"
   ]
  },
  {
   "cell_type": "markdown",
   "id": "bronze-rogers",
   "metadata": {},
   "source": [
    "## Take a link and make a template out of it"
   ]
  },
  {
   "cell_type": "code",
   "execution_count": null,
   "id": "indoor-affiliate",
   "metadata": {},
   "outputs": [],
   "source": [
    "links[0].template()"
   ]
  },
  {
   "cell_type": "code",
   "execution_count": null,
   "id": "objective-writing",
   "metadata": {},
   "outputs": [],
   "source": [
    "t = _"
   ]
  },
  {
   "cell_type": "code",
   "execution_count": null,
   "id": "sealed-electron",
   "metadata": {},
   "outputs": [],
   "source": [
    "t.rename(\"zone-app-process\")"
   ]
  },
  {
   "cell_type": "code",
   "execution_count": null,
   "id": "standard-metropolitan",
   "metadata": {},
   "outputs": [],
   "source": [
    "api.Table(t.index)"
   ]
  },
  {
   "cell_type": "code",
   "execution_count": null,
   "id": "signed-thread",
   "metadata": {},
   "outputs": [],
   "source": [
    "api.Table(t.nodes())"
   ]
  },
  {
   "cell_type": "code",
   "execution_count": null,
   "id": "western-credit",
   "metadata": {},
   "outputs": [],
   "source": [
    "t.update_node(1, {\"dns_pattern\": \".+\"})"
   ]
  },
  {
   "cell_type": "code",
   "execution_count": null,
   "id": "breeding-guitar",
   "metadata": {},
   "outputs": [],
   "source": [
    "t.save()"
   ]
  },
  {
   "cell_type": "code",
   "execution_count": null,
   "id": "martial-child",
   "metadata": {},
   "outputs": [],
   "source": [
    "api.Table(api.value_count([a.type for a in links]))"
   ]
  },
  {
   "cell_type": "code",
   "execution_count": null,
   "id": "lonely-honduras",
   "metadata": {},
   "outputs": [],
   "source": [
    "api.Table(links, lambda o: o[\"client\"][\"process\"] == \"metrics-server\")"
   ]
  },
  {
   "cell_type": "code",
   "execution_count": null,
   "id": "forbidden-hepatitis",
   "metadata": {},
   "outputs": [],
   "source": [
    "api.Table(api.value_count([a.client.app for a in _.links]))"
   ]
  },
  {
   "cell_type": "code",
   "execution_count": null,
   "id": "entertaining-happiness",
   "metadata": {},
   "outputs": [],
   "source": [
    "api.LinkTable([a for a in links if a.server.dns_pattern is None])"
   ]
  },
  {
   "cell_type": "code",
   "execution_count": null,
   "id": "artificial-survey",
   "metadata": {},
   "outputs": [],
   "source": [
    "api.Table(api.value_count([a.server.subnet for a in links if hasattr(a.server, \"subnet\")]))"
   ]
  },
  {
   "cell_type": "code",
   "execution_count": null,
   "id": "experimental-maximum",
   "metadata": {
    "scrolled": true
   },
   "outputs": [],
   "source": [
    "api.Table(api.value_count([a.server.dns_pattern for a in links]))"
   ]
  },
  {
   "cell_type": "code",
   "execution_count": null,
   "id": "shaped-spirit",
   "metadata": {
    "scrolled": true
   },
   "outputs": [],
   "source": [
    "api.Table(api.value_count([a.client.process for a in links]))"
   ]
  },
  {
   "cell_type": "code",
   "execution_count": null,
   "id": "reserved-enzyme",
   "metadata": {},
   "outputs": [],
   "source": [
    "api.Table(api.value_count([a.type for a in links]))"
   ]
  },
  {
   "cell_type": "markdown",
   "id": "intimate-marketing",
   "metadata": {},
   "source": [
    "# Score after all the template based work"
   ]
  },
  {
   "cell_type": "code",
   "execution_count": null,
   "id": "tutorial-machine",
   "metadata": {},
   "outputs": [],
   "source": [
    "api.Table(run.link_stats(all=True, only_new=True, runlink=runlinks))"
   ]
  },
  {
   "cell_type": "markdown",
   "id": "cardiovascular-friend",
   "metadata": {},
   "source": [
    "## Analyze efficacy of individual matchers"
   ]
  },
  {
   "cell_type": "code",
   "execution_count": null,
   "id": "mexican-october",
   "metadata": {},
   "outputs": [],
   "source": [
    "api.LinkTable([a for a in runlinks if hasattr(a, \"policy\")])"
   ]
  },
  {
   "cell_type": "code",
   "execution_count": null,
   "id": "enclosed-chinese",
   "metadata": {},
   "outputs": [],
   "source": [
    "links = _.links"
   ]
  },
  {
   "cell_type": "code",
   "execution_count": null,
   "id": "beautiful-edwards",
   "metadata": {},
   "outputs": [],
   "source": [
    "len(links)"
   ]
  },
  {
   "cell_type": "markdown",
   "id": "reasonable-holiday",
   "metadata": {},
   "source": [
    "## Frequency count"
   ]
  },
  {
   "cell_type": "code",
   "execution_count": null,
   "id": "intelligent-internship",
   "metadata": {},
   "outputs": [],
   "source": [
    "api.Table(api.value_count([a.policy for a in links]))"
   ]
  },
  {
   "cell_type": "code",
   "execution_count": null,
   "id": "orange-movie",
   "metadata": {},
   "outputs": [],
   "source": []
  }
 ],
 "metadata": {
  "kernelspec": {
   "display_name": "Python 3",
   "language": "python",
   "name": "python3"
  },
  "language_info": {
   "codemirror_mode": {
    "name": "ipython",
    "version": 3
   },
   "file_extension": ".py",
   "mimetype": "text/x-python",
   "name": "python",
   "nbconvert_exporter": "python",
   "pygments_lexer": "ipython3",
   "version": "3.9.0"
  }
 },
 "nbformat": 4,
 "nbformat_minor": 5
}
