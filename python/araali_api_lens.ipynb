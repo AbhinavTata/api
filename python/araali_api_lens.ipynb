{
 "cells": [
  {
   "cell_type": "markdown",
   "id": "sustained-extra",
   "metadata": {},
   "source": [
    "<h1 id=\"tocheading\">Table of Contents</h1>\n",
    "<div id=\"toc\"></div>"
   ]
  },
  {
   "cell_type": "code",
   "execution_count": null,
   "id": "automatic-riverside",
   "metadata": {},
   "outputs": [],
   "source": [
    "%%javascript\n",
    "$.getScript('https://kmahelona.github.io/ipython_notebook_goodies/ipython_notebook_toc.js')"
   ]
  },
  {
   "cell_type": "code",
   "execution_count": null,
   "id": "individual-shopping",
   "metadata": {},
   "outputs": [],
   "source": [
    "import api\n",
    "import imp\n",
    "import araalictl"
   ]
  },
  {
   "cell_type": "code",
   "execution_count": null,
   "id": "prepared-nickname",
   "metadata": {},
   "outputs": [],
   "source": [
    "# if you are a api dev and make changes\n",
    "imp.reload(araalictl)\n",
    "imp.reload(api)"
   ]
  },
  {
   "cell_type": "code",
   "execution_count": null,
   "id": "complete-wrist",
   "metadata": {},
   "outputs": [],
   "source": [
    "api.g_tenant = None"
   ]
  },
  {
   "cell_type": "markdown",
   "id": "medical-wilderness",
   "metadata": {},
   "source": [
    "# Get all lenses"
   ]
  },
  {
   "cell_type": "code",
   "execution_count": null,
   "id": "detected-canal",
   "metadata": {},
   "outputs": [],
   "source": [
    "api.Table(api.Lens.get(enforced=False, starred=False, all=True),\n",
    "          #lambda o: o[\"type\"] == \"fqdn\"\n",
    "         )"
   ]
  },
  {
   "cell_type": "code",
   "execution_count": null,
   "id": "hollow-badge",
   "metadata": {},
   "outputs": [],
   "source": [
    "lens = _.links"
   ]
  },
  {
   "cell_type": "code",
   "execution_count": null,
   "id": "worthy-highlight",
   "metadata": {},
   "outputs": [],
   "source": [
    "api.Table(api.value_count([a.type() for a in lens]))"
   ]
  },
  {
   "cell_type": "code",
   "execution_count": null,
   "id": "alternate-forward",
   "metadata": {},
   "outputs": [],
   "source": [
    "api.Table(lens, lambda o: o[\"type\"] == \"app\")"
   ]
  },
  {
   "cell_type": "code",
   "execution_count": null,
   "id": "positive-current",
   "metadata": {},
   "outputs": [],
   "source": [
    "api.Table(lens, lambda o: o[\"type\"] == \"ip\")"
   ]
  },
  {
   "cell_type": "code",
   "execution_count": null,
   "id": "motivated-house",
   "metadata": {
    "scrolled": true
   },
   "outputs": [],
   "source": [
    "api.Table(lens, lambda o: o[\"type\"] == \"fqdn\")"
   ]
  },
  {
   "cell_type": "markdown",
   "id": "adolescent-ordinary",
   "metadata": {},
   "source": [
    "## Count them"
   ]
  },
  {
   "cell_type": "code",
   "execution_count": null,
   "id": "thousand-calculator",
   "metadata": {},
   "outputs": [],
   "source": [
    "len(lens)"
   ]
  },
  {
   "cell_type": "markdown",
   "id": "willing-conflict",
   "metadata": {},
   "source": [
    "## Pick one of the links"
   ]
  },
  {
   "cell_type": "code",
   "execution_count": null,
   "id": "maritime-incidence",
   "metadata": {},
   "outputs": [],
   "source": [
    "api.Table([a for a in lens if a.obj.get(\"app\", \"\") == \"kube-system\"])"
   ]
  },
  {
   "cell_type": "code",
   "execution_count": null,
   "id": "juvenile-catch",
   "metadata": {},
   "outputs": [],
   "source": [
    "api.Table([a for a in lens if a.obj.get(\"fqdn\", \"\") == \"github.com\"])"
   ]
  },
  {
   "cell_type": "code",
   "execution_count": null,
   "id": "cardiac-liechtenstein",
   "metadata": {},
   "outputs": [],
   "source": [
    "api.Table([a for a in lens if a.obj.get(\"ip\", \"\") == \"169.254.169.254\"])"
   ]
  },
  {
   "cell_type": "code",
   "execution_count": null,
   "id": "warming-breach",
   "metadata": {},
   "outputs": [],
   "source": [
    "mylens = _.links[0]"
   ]
  },
  {
   "cell_type": "markdown",
   "id": "flush-child",
   "metadata": {},
   "source": [
    "# Lens to App Policies or Links"
   ]
  },
  {
   "cell_type": "code",
   "execution_count": null,
   "id": "pediatric-albuquerque",
   "metadata": {},
   "outputs": [],
   "source": [
    "app = mylens.app()"
   ]
  },
  {
   "cell_type": "code",
   "execution_count": null,
   "id": "swiss-princeton",
   "metadata": {},
   "outputs": [],
   "source": [
    "api.Table(app.stats())"
   ]
  },
  {
   "cell_type": "code",
   "execution_count": null,
   "id": "waiting-travel",
   "metadata": {},
   "outputs": [],
   "source": [
    "api.LinkTable(app.iterlinks())"
   ]
  },
  {
   "cell_type": "markdown",
   "id": "controversial-smoke",
   "metadata": {},
   "source": [
    "# App to Template"
   ]
  },
  {
   "cell_type": "code",
   "execution_count": null,
   "id": "unknown-capacity",
   "metadata": {},
   "outputs": [],
   "source": [
    "app.template()"
   ]
  },
  {
   "cell_type": "markdown",
   "id": "sublime-liability",
   "metadata": {},
   "source": [
    "## Store the template from output above into a variable"
   ]
  },
  {
   "cell_type": "code",
   "execution_count": null,
   "id": "painful-juvenile",
   "metadata": {},
   "outputs": [],
   "source": [
    "t = _"
   ]
  },
  {
   "cell_type": "markdown",
   "id": "purple-sellers",
   "metadata": {},
   "source": [
    "## Indexed summary of the template"
   ]
  },
  {
   "cell_type": "code",
   "execution_count": null,
   "id": "democratic-baking",
   "metadata": {
    "scrolled": true
   },
   "outputs": [],
   "source": [
    "api.Table(t.index)"
   ]
  },
  {
   "cell_type": "markdown",
   "id": "driven-following",
   "metadata": {},
   "source": [
    "## Nodes of the template - so we can do some editing"
   ]
  },
  {
   "cell_type": "code",
   "execution_count": null,
   "id": "european-community",
   "metadata": {},
   "outputs": [],
   "source": [
    "api.Table(t.nodes())"
   ]
  },
  {
   "cell_type": "markdown",
   "id": "terminal-buffer",
   "metadata": {},
   "source": [
    "## If you want to keep just one process/service and its links"
   ]
  },
  {
   "cell_type": "code",
   "execution_count": null,
   "id": "positive-albuquerque",
   "metadata": {},
   "outputs": [],
   "source": [
    "t.keep_node(0)"
   ]
  },
  {
   "cell_type": "markdown",
   "id": "extraordinary-admission",
   "metadata": {},
   "source": [
    "## View the locally modified template"
   ]
  },
  {
   "cell_type": "code",
   "execution_count": null,
   "id": "latter-bridge",
   "metadata": {},
   "outputs": [],
   "source": [
    "api.Table(t.nodes())"
   ]
  },
  {
   "cell_type": "markdown",
   "id": "alternative-claim",
   "metadata": {},
   "source": [
    "## If you want to delete some nodes"
   ]
  },
  {
   "cell_type": "code",
   "execution_count": null,
   "id": "interested-ocean",
   "metadata": {},
   "outputs": [],
   "source": [
    "t.delete_nodes(*range(3,4))"
   ]
  },
  {
   "cell_type": "code",
   "execution_count": null,
   "id": "colored-recorder",
   "metadata": {},
   "outputs": [],
   "source": [
    "api.Table(t.nodes())"
   ]
  },
  {
   "cell_type": "markdown",
   "id": "individual-peninsula",
   "metadata": {},
   "source": [
    "## If you want to update some nodes"
   ]
  },
  {
   "cell_type": "code",
   "execution_count": null,
   "id": "conditional-picking",
   "metadata": {},
   "outputs": [],
   "source": [
    "t.update_node(2, {\"dns_pattern\": \".+\", \"dst_port\": 10250})"
   ]
  },
  {
   "cell_type": "code",
   "execution_count": null,
   "id": "shaped-drain",
   "metadata": {},
   "outputs": [],
   "source": [
    "t.update_node(0, {\"zone\": \".+\"})"
   ]
  },
  {
   "cell_type": "markdown",
   "id": "perceived-weekly",
   "metadata": {},
   "source": [
    "## If you want to rename the node"
   ]
  },
  {
   "cell_type": "code",
   "execution_count": null,
   "id": "coastal-multimedia",
   "metadata": {},
   "outputs": [],
   "source": [
    "t.rename(\"any-kube-system-metrics-server\")"
   ]
  },
  {
   "cell_type": "markdown",
   "id": "fantastic-massage",
   "metadata": {},
   "source": [
    "## If you want to publish the template as a public one in Araali Marketplace"
   ]
  },
  {
   "cell_type": "code",
   "execution_count": null,
   "id": "treated-report",
   "metadata": {},
   "outputs": [],
   "source": [
    "t.public = True"
   ]
  },
  {
   "cell_type": "markdown",
   "id": "massive-commander",
   "metadata": {},
   "source": [
    "## If you only want to save locally"
   ]
  },
  {
   "cell_type": "code",
   "execution_count": null,
   "id": "finite-sellers",
   "metadata": {},
   "outputs": [],
   "source": [
    "t.save()"
   ]
  },
  {
   "cell_type": "markdown",
   "id": "acknowledged-quarter",
   "metadata": {},
   "source": [
    "## If you want to load from a locally saved template"
   ]
  },
  {
   "cell_type": "code",
   "execution_count": null,
   "id": "floppy-middle",
   "metadata": {},
   "outputs": [],
   "source": [
    "t = api.Template(fname=\"template-public-any-k8s-nodes-kubelet.yaml\")"
   ]
  },
  {
   "cell_type": "markdown",
   "id": "dangerous-domestic",
   "metadata": {},
   "source": [
    "## If you want to push to Araali Marketplace"
   ]
  },
  {
   "cell_type": "code",
   "execution_count": null,
   "id": "gentle-insulation",
   "metadata": {},
   "outputs": [],
   "source": [
    "t.push()"
   ]
  },
  {
   "cell_type": "code",
   "execution_count": null,
   "id": "blond-bible",
   "metadata": {},
   "outputs": [],
   "source": [
    "t"
   ]
  },
  {
   "cell_type": "markdown",
   "id": "specific-revelation",
   "metadata": {},
   "source": [
    "# Load up links so you can measure the efficacy of templates"
   ]
  },
  {
   "cell_type": "code",
   "execution_count": null,
   "id": "vietnamese-thread",
   "metadata": {},
   "outputs": [],
   "source": [
    "import copy\n",
    "api.Runtime.zone2apps = None\n",
    "run = api.Runtime()\n",
    "run.refresh()\n",
    "runlinks = copy.deepcopy(list(run.iterlinks()))"
   ]
  },
  {
   "cell_type": "markdown",
   "id": "everyday-focus",
   "metadata": {},
   "source": [
    "## Summary of alerts"
   ]
  },
  {
   "cell_type": "code",
   "execution_count": null,
   "id": "dense-romance",
   "metadata": {},
   "outputs": [],
   "source": [
    "api.Table(run.link_stats(all=True, only_new=True, runlink=runlinks))"
   ]
  },
  {
   "cell_type": "markdown",
   "id": "fatty-ontario",
   "metadata": {},
   "source": [
    "# Load all public teamplates in Araali Marketplace"
   ]
  },
  {
   "cell_type": "code",
   "execution_count": null,
   "id": "paperback-portugal",
   "metadata": {},
   "outputs": [],
   "source": [
    "matchers = api.Templates(public=True)"
   ]
  },
  {
   "cell_type": "markdown",
   "id": "classified-green",
   "metadata": {},
   "source": [
    "## Add a local template to it"
   ]
  },
  {
   "cell_type": "code",
   "execution_count": null,
   "id": "affiliated-planet",
   "metadata": {},
   "outputs": [],
   "source": [
    "t = api.Template(fname=\"template-any-kube-system-metrics-server.yaml\")"
   ]
  },
  {
   "cell_type": "code",
   "execution_count": null,
   "id": "israeli-enlargement",
   "metadata": {},
   "outputs": [],
   "source": [
    "matchers.add(t)"
   ]
  },
  {
   "cell_type": "markdown",
   "id": "printable-festival",
   "metadata": {},
   "source": [
    "## View the list of templates that you will be matching with"
   ]
  },
  {
   "cell_type": "code",
   "execution_count": null,
   "id": "judicial-peoples",
   "metadata": {},
   "outputs": [],
   "source": [
    "api.Table(matchers.templates)"
   ]
  },
  {
   "cell_type": "markdown",
   "id": "anticipated-escape",
   "metadata": {},
   "source": [
    "# Run all the links through matchers with post filters"
   ]
  },
  {
   "cell_type": "code",
   "execution_count": null,
   "id": "animated-surname",
   "metadata": {
    "scrolled": true
   },
   "outputs": [],
   "source": [
    "api.LinkTable(matchers.run(runlinks, matched=False), \n",
    "          lambda o: o[\"type\"] == \"NAE\",\n",
    "          #lambda o: o[\"client\"][\"process\"] == \"chrome\"\n",
    "         )"
   ]
  },
  {
   "cell_type": "markdown",
   "id": "distributed-chase",
   "metadata": {},
   "source": [
    "## Analyze all the links that did not match"
   ]
  },
  {
   "cell_type": "code",
   "execution_count": null,
   "id": "parliamentary-adobe",
   "metadata": {},
   "outputs": [],
   "source": [
    "links = _.links"
   ]
  },
  {
   "cell_type": "code",
   "execution_count": null,
   "id": "duplicate-fitness",
   "metadata": {},
   "outputs": [],
   "source": [
    "len(links)"
   ]
  },
  {
   "cell_type": "markdown",
   "id": "chief-action",
   "metadata": {},
   "source": [
    "## Take a link and make a template out of it"
   ]
  },
  {
   "cell_type": "code",
   "execution_count": null,
   "id": "thermal-evans",
   "metadata": {},
   "outputs": [],
   "source": [
    "links[0].template()"
   ]
  },
  {
   "cell_type": "code",
   "execution_count": null,
   "id": "designed-petroleum",
   "metadata": {},
   "outputs": [],
   "source": [
    "t = _"
   ]
  },
  {
   "cell_type": "code",
   "execution_count": null,
   "id": "passive-assurance",
   "metadata": {},
   "outputs": [],
   "source": [
    "t.rename(\"zone-app-process\")"
   ]
  },
  {
   "cell_type": "code",
   "execution_count": null,
   "id": "bibliographic-logistics",
   "metadata": {},
   "outputs": [],
   "source": [
    "api.Table(t.index)"
   ]
  },
  {
   "cell_type": "code",
   "execution_count": null,
   "id": "regulation-scout",
   "metadata": {},
   "outputs": [],
   "source": [
    "api.Table(t.nodes())"
   ]
  },
  {
   "cell_type": "code",
   "execution_count": null,
   "id": "retained-modem",
   "metadata": {},
   "outputs": [],
   "source": [
    "t.update_node(1, {\"dns_pattern\": \".+\"})"
   ]
  },
  {
   "cell_type": "code",
   "execution_count": null,
   "id": "interstate-complex",
   "metadata": {},
   "outputs": [],
   "source": [
    "t.save()"
   ]
  },
  {
   "cell_type": "code",
   "execution_count": null,
   "id": "biblical-handy",
   "metadata": {},
   "outputs": [],
   "source": [
    "api.Table(api.value_count([a.type for a in links]))"
   ]
  },
  {
   "cell_type": "code",
   "execution_count": null,
   "id": "unable-appearance",
   "metadata": {},
   "outputs": [],
   "source": [
    "api.Table(links, lambda o: o[\"client\"][\"process\"] == \"metrics-server\")"
   ]
  },
  {
   "cell_type": "code",
   "execution_count": null,
   "id": "related-grace",
   "metadata": {},
   "outputs": [],
   "source": [
    "api.Table(api.value_count([a.client.app for a in _.links]))"
   ]
  },
  {
   "cell_type": "code",
   "execution_count": null,
   "id": "wound-calendar",
   "metadata": {},
   "outputs": [],
   "source": [
    "api.LinkTable([a for a in links if a.server.dns_pattern is None])"
   ]
  },
  {
   "cell_type": "code",
   "execution_count": null,
   "id": "apparent-athens",
   "metadata": {},
   "outputs": [],
   "source": [
    "api.Table(api.value_count([a.server.subnet for a in links if hasattr(a.server, \"subnet\")]))"
   ]
  },
  {
   "cell_type": "code",
   "execution_count": null,
   "id": "contrary-alliance",
   "metadata": {
    "scrolled": true
   },
   "outputs": [],
   "source": [
    "api.Table(api.value_count([a.server.dns_pattern for a in links]))"
   ]
  },
  {
   "cell_type": "code",
   "execution_count": null,
   "id": "agricultural-glenn",
   "metadata": {
    "scrolled": true
   },
   "outputs": [],
   "source": [
    "api.Table(api.value_count([a.client.process for a in links]))"
   ]
  },
  {
   "cell_type": "code",
   "execution_count": null,
   "id": "novel-container",
   "metadata": {},
   "outputs": [],
   "source": [
    "api.Table(api.value_count([a.type for a in links]))"
   ]
  },
  {
   "cell_type": "markdown",
   "id": "greenhouse-matrix",
   "metadata": {},
   "source": [
    "# Score after all the template based work"
   ]
  },
  {
   "cell_type": "code",
   "execution_count": null,
   "id": "limiting-waterproof",
   "metadata": {},
   "outputs": [],
   "source": [
    "api.Table(run.link_stats(all=True, only_new=True, runlink=runlinks))"
   ]
  },
  {
   "cell_type": "markdown",
   "id": "physical-copper",
   "metadata": {},
   "source": [
    "## Analyze efficacy of individual matchers"
   ]
  },
  {
   "cell_type": "code",
   "execution_count": null,
   "id": "agricultural-discussion",
   "metadata": {},
   "outputs": [],
   "source": [
    "api.LinkTable([a for a in runlinks if hasattr(a, \"policy\")])"
   ]
  },
  {
   "cell_type": "code",
   "execution_count": null,
   "id": "rural-injection",
   "metadata": {},
   "outputs": [],
   "source": [
    "links = _.links"
   ]
  },
  {
   "cell_type": "code",
   "execution_count": null,
   "id": "impossible-holiday",
   "metadata": {},
   "outputs": [],
   "source": [
    "len(links)"
   ]
  },
  {
   "cell_type": "markdown",
   "id": "convertible-charlotte",
   "metadata": {},
   "source": [
    "## Frequency count"
   ]
  },
  {
   "cell_type": "code",
   "execution_count": null,
   "id": "fourth-century",
   "metadata": {},
   "outputs": [],
   "source": [
    "api.Table(api.value_count([a.policy for a in links]))"
   ]
  },
  {
   "cell_type": "code",
   "execution_count": null,
   "id": "north-louisiana",
   "metadata": {},
   "outputs": [],
   "source": []
  }
 ],
 "metadata": {
  "kernelspec": {
   "display_name": "Python 3",
   "language": "python",
   "name": "python3"
  },
  "language_info": {
   "codemirror_mode": {
    "name": "ipython",
    "version": 3
   },
   "file_extension": ".py",
   "mimetype": "text/x-python",
   "name": "python",
   "nbconvert_exporter": "python",
   "pygments_lexer": "ipython3",
   "version": "3.9.0"
  }
 },
 "nbformat": 4,
 "nbformat_minor": 5
}
